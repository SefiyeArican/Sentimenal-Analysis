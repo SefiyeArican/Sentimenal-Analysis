{
  "nbformat": 4,
  "nbformat_minor": 0,
  "metadata": {
    "colab": {
      "provenance": [],
      "gpuType": "T4",
      "authorship_tag": "ABX9TyNGNVcAvQKUzf5HYvPn63md",
      "include_colab_link": true
    },
    "kernelspec": {
      "name": "python3",
      "display_name": "Python 3"
    },
    "language_info": {
      "name": "python"
    },
    "accelerator": "GPU"
  },
  "cells": [
    {
      "cell_type": "markdown",
      "metadata": {
        "id": "view-in-github",
        "colab_type": "text"
      },
      "source": [
        "<a href=\"https://colab.research.google.com/github/SefiyeArican/Sentimenal-Analysis/blob/main/Sentimenal_Analysis.ipynb\" target=\"_parent\"><img src=\"https://colab.research.google.com/assets/colab-badge.svg\" alt=\"Open In Colab\"/></a>"
      ]
    },
    {
      "cell_type": "code",
      "execution_count": 63,
      "metadata": {
        "id": "qk7VJTVmjyJy",
        "colab": {
          "base_uri": "https://localhost:8080/"
        },
        "outputId": "a7b5b907-d029-4036-da07-e039ca5ef8aa"
      },
      "outputs": [
        {
          "output_type": "stream",
          "name": "stdout",
          "text": [
            "Requirement already satisfied: nltk in /usr/local/lib/python3.10/dist-packages (3.8.1)\n",
            "Requirement already satisfied: click in /usr/local/lib/python3.10/dist-packages (from nltk) (8.1.7)\n",
            "Requirement already satisfied: joblib in /usr/local/lib/python3.10/dist-packages (from nltk) (1.4.2)\n",
            "Requirement already satisfied: regex>=2021.8.3 in /usr/local/lib/python3.10/dist-packages (from nltk) (2024.5.15)\n",
            "Requirement already satisfied: tqdm in /usr/local/lib/python3.10/dist-packages (from nltk) (4.66.4)\n",
            "Requirement already satisfied: textblob in /usr/local/lib/python3.10/dist-packages (0.17.1)\n",
            "Requirement already satisfied: nltk>=3.1 in /usr/local/lib/python3.10/dist-packages (from textblob) (3.8.1)\n",
            "Requirement already satisfied: click in /usr/local/lib/python3.10/dist-packages (from nltk>=3.1->textblob) (8.1.7)\n",
            "Requirement already satisfied: joblib in /usr/local/lib/python3.10/dist-packages (from nltk>=3.1->textblob) (1.4.2)\n",
            "Requirement already satisfied: regex>=2021.8.3 in /usr/local/lib/python3.10/dist-packages (from nltk>=3.1->textblob) (2024.5.15)\n",
            "Requirement already satisfied: tqdm in /usr/local/lib/python3.10/dist-packages (from nltk>=3.1->textblob) (4.66.4)\n",
            "Requirement already satisfied: wordcloud in /usr/local/lib/python3.10/dist-packages (1.9.3)\n",
            "Requirement already satisfied: numpy>=1.6.1 in /usr/local/lib/python3.10/dist-packages (from wordcloud) (1.25.2)\n",
            "Requirement already satisfied: pillow in /usr/local/lib/python3.10/dist-packages (from wordcloud) (9.4.0)\n",
            "Requirement already satisfied: matplotlib in /usr/local/lib/python3.10/dist-packages (from wordcloud) (3.7.1)\n",
            "Requirement already satisfied: contourpy>=1.0.1 in /usr/local/lib/python3.10/dist-packages (from matplotlib->wordcloud) (1.2.1)\n",
            "Requirement already satisfied: cycler>=0.10 in /usr/local/lib/python3.10/dist-packages (from matplotlib->wordcloud) (0.12.1)\n",
            "Requirement already satisfied: fonttools>=4.22.0 in /usr/local/lib/python3.10/dist-packages (from matplotlib->wordcloud) (4.53.1)\n",
            "Requirement already satisfied: kiwisolver>=1.0.1 in /usr/local/lib/python3.10/dist-packages (from matplotlib->wordcloud) (1.4.5)\n",
            "Requirement already satisfied: packaging>=20.0 in /usr/local/lib/python3.10/dist-packages (from matplotlib->wordcloud) (24.1)\n",
            "Requirement already satisfied: pyparsing>=2.3.1 in /usr/local/lib/python3.10/dist-packages (from matplotlib->wordcloud) (3.1.2)\n",
            "Requirement already satisfied: python-dateutil>=2.7 in /usr/local/lib/python3.10/dist-packages (from matplotlib->wordcloud) (2.8.2)\n",
            "Requirement already satisfied: six>=1.5 in /usr/local/lib/python3.10/dist-packages (from python-dateutil>=2.7->matplotlib->wordcloud) (1.16.0)\n"
          ]
        }
      ],
      "source": [
        "!pip install nltk\n",
        "!pip install textblob\n",
        "!pip install wordcloud"
      ]
    },
    {
      "cell_type": "code",
      "source": [
        "from warnings import filterwarnings\n",
        "import matplotlib.pyplot as plt\n",
        "import numpy as np\n",
        "import pandas as pd\n",
        "from PIL import Image\n",
        "from nltk.corpus import stopwords\n",
        "from nltk.sentiment import SentimentIntensityAnalyzer\n",
        "from sklearn.ensemble import RandomForestClassifier\n",
        "from sklearn.linear_model import LogisticRegression\n",
        "from sklearn.model_selection import cross_val_score, GridSearchCV, cross_validate\n",
        "from sklearn.preprocessing import LabelEncoder\n",
        "from textblob import Word, TextBlob\n",
        "from wordcloud import WordCloud"
      ],
      "metadata": {
        "id": "8Bq1SD8Zk1xo"
      },
      "execution_count": 64,
      "outputs": []
    },
    {
      "cell_type": "code",
      "source": [
        "filterwarnings(\"ignore\")\n",
        "pd.set_option(\"display.max_columns\", None)\n",
        "pd.set_option(\"display.width\", 200)\n",
        "pd.set_option(\"display.float_format\", lambda x: \"% 2f\" % x)"
      ],
      "metadata": {
        "id": "tXxiJDnsk7BW"
      },
      "execution_count": 99,
      "outputs": []
    },
    {
      "cell_type": "code",
      "source": [
        "df=pd.read_csv(\"amazon_reviews.csv\")\n",
        "df.head(10)"
      ],
      "metadata": {
        "colab": {
          "base_uri": "https://localhost:8080/",
          "height": 953
        },
        "id": "jpLBtdyylj16",
        "outputId": "99cc2819-5194-4a0d-ef65-ff04c2c81f13"
      },
      "execution_count": 66,
      "outputs": [
        {
          "output_type": "execute_result",
          "data": {
            "text/plain": [
              "       reviewerID        asin                                      reviewerName helpful                                         reviewText  overall  \\\n",
              "0  A3SBTW3WS4IQSN  B007WTAJTO                                               NaN  [0, 0]                                         No issues.     % 2f   \n",
              "1  A18K1ODH1I2MVB  B007WTAJTO                                              0mie  [0, 0]  Purchased this for my device, it worked as adv...     % 2f   \n",
              "2  A2FII3I2MBMUIA  B007WTAJTO                                               1K3  [0, 0]  it works as expected. I should have sprung for...     % 2f   \n",
              "3   A3H99DFEG68SR  B007WTAJTO                                               1m2  [0, 0]  This think has worked out great.Had a diff. br...     % 2f   \n",
              "4  A375ZM4U047O79  B007WTAJTO                                      2&amp;1/2Men  [0, 0]  Bought it with Retail Packaging, arrived legit...     % 2f   \n",
              "5  A2IDCSC6NVONIZ  B007WTAJTO                                           2Cents!  [0, 0]  It's mini storage.  It doesn't do anything els...     % 2f   \n",
              "6  A26YHXZD5UFPVQ  B007WTAJTO                                        2K1Toaster  [0, 0]  I have it in my phone and it never skips a bea...     % 2f   \n",
              "7  A3CW0ZLUO5X2B1  B007WTAJTO  35-year Technology Consumer \"8-tracks to 802.11\"  [0, 0]  It's hard to believe how affordable digital ha...     % 2f   \n",
              "8  A2CYJO155QP33S  B007WTAJTO                                         4evryoung  [1, 1]  Works in a HTC Rezound.  Was running short of ...     % 2f   \n",
              "9  A2S7XG3ZC4VGOQ  B007WTAJTO                                          53rdcard  [0, 0]  in my galaxy s4, super fast card, and am total...     % 2f   \n",
              "\n",
              "                                             summary  unixReviewTime  reviewTime  day_diff  helpful_yes  total_vote  \n",
              "0                                         Four Stars      1406073600  2014-07-23       138            0           0  \n",
              "1                                      MOAR SPACE!!!      1382659200  2013-10-25       409            0           0  \n",
              "2                          nothing to really say....      1356220800  2012-12-23       715            0           0  \n",
              "3             Great buy at this price!!!  *** UPDATE      1384992000  2013-11-21       382            0           0  \n",
              "4                                   best deal around      1373673600  2013-07-13       513            0           0  \n",
              "5                        Not a lot to really be said      1367193600  2013-04-29       588            0           0  \n",
              "6                                         Works well      1382140800  2013-10-19       415            0           0  \n",
              "7  32 GB for less than two sawbucks...what's not ...      1404950400  2014-10-07        62            0           0  \n",
              "8                                      Loads of room      1395619200  2014-03-24       259            1           1  \n",
              "9                                        works great      1381449600  2013-11-10       393            0           0  "
            ],
            "text/html": [
              "\n",
              "  <div id=\"df-d393d088-967b-48a9-a55f-2cb75c150c34\" class=\"colab-df-container\">\n",
              "    <div>\n",
              "<style scoped>\n",
              "    .dataframe tbody tr th:only-of-type {\n",
              "        vertical-align: middle;\n",
              "    }\n",
              "\n",
              "    .dataframe tbody tr th {\n",
              "        vertical-align: top;\n",
              "    }\n",
              "\n",
              "    .dataframe thead th {\n",
              "        text-align: right;\n",
              "    }\n",
              "</style>\n",
              "<table border=\"1\" class=\"dataframe\">\n",
              "  <thead>\n",
              "    <tr style=\"text-align: right;\">\n",
              "      <th></th>\n",
              "      <th>reviewerID</th>\n",
              "      <th>asin</th>\n",
              "      <th>reviewerName</th>\n",
              "      <th>helpful</th>\n",
              "      <th>reviewText</th>\n",
              "      <th>overall</th>\n",
              "      <th>summary</th>\n",
              "      <th>unixReviewTime</th>\n",
              "      <th>reviewTime</th>\n",
              "      <th>day_diff</th>\n",
              "      <th>helpful_yes</th>\n",
              "      <th>total_vote</th>\n",
              "    </tr>\n",
              "  </thead>\n",
              "  <tbody>\n",
              "    <tr>\n",
              "      <th>0</th>\n",
              "      <td>A3SBTW3WS4IQSN</td>\n",
              "      <td>B007WTAJTO</td>\n",
              "      <td>NaN</td>\n",
              "      <td>[0, 0]</td>\n",
              "      <td>No issues.</td>\n",
              "      <td>% 2f</td>\n",
              "      <td>Four Stars</td>\n",
              "      <td>1406073600</td>\n",
              "      <td>2014-07-23</td>\n",
              "      <td>138</td>\n",
              "      <td>0</td>\n",
              "      <td>0</td>\n",
              "    </tr>\n",
              "    <tr>\n",
              "      <th>1</th>\n",
              "      <td>A18K1ODH1I2MVB</td>\n",
              "      <td>B007WTAJTO</td>\n",
              "      <td>0mie</td>\n",
              "      <td>[0, 0]</td>\n",
              "      <td>Purchased this for my device, it worked as adv...</td>\n",
              "      <td>% 2f</td>\n",
              "      <td>MOAR SPACE!!!</td>\n",
              "      <td>1382659200</td>\n",
              "      <td>2013-10-25</td>\n",
              "      <td>409</td>\n",
              "      <td>0</td>\n",
              "      <td>0</td>\n",
              "    </tr>\n",
              "    <tr>\n",
              "      <th>2</th>\n",
              "      <td>A2FII3I2MBMUIA</td>\n",
              "      <td>B007WTAJTO</td>\n",
              "      <td>1K3</td>\n",
              "      <td>[0, 0]</td>\n",
              "      <td>it works as expected. I should have sprung for...</td>\n",
              "      <td>% 2f</td>\n",
              "      <td>nothing to really say....</td>\n",
              "      <td>1356220800</td>\n",
              "      <td>2012-12-23</td>\n",
              "      <td>715</td>\n",
              "      <td>0</td>\n",
              "      <td>0</td>\n",
              "    </tr>\n",
              "    <tr>\n",
              "      <th>3</th>\n",
              "      <td>A3H99DFEG68SR</td>\n",
              "      <td>B007WTAJTO</td>\n",
              "      <td>1m2</td>\n",
              "      <td>[0, 0]</td>\n",
              "      <td>This think has worked out great.Had a diff. br...</td>\n",
              "      <td>% 2f</td>\n",
              "      <td>Great buy at this price!!!  *** UPDATE</td>\n",
              "      <td>1384992000</td>\n",
              "      <td>2013-11-21</td>\n",
              "      <td>382</td>\n",
              "      <td>0</td>\n",
              "      <td>0</td>\n",
              "    </tr>\n",
              "    <tr>\n",
              "      <th>4</th>\n",
              "      <td>A375ZM4U047O79</td>\n",
              "      <td>B007WTAJTO</td>\n",
              "      <td>2&amp;amp;1/2Men</td>\n",
              "      <td>[0, 0]</td>\n",
              "      <td>Bought it with Retail Packaging, arrived legit...</td>\n",
              "      <td>% 2f</td>\n",
              "      <td>best deal around</td>\n",
              "      <td>1373673600</td>\n",
              "      <td>2013-07-13</td>\n",
              "      <td>513</td>\n",
              "      <td>0</td>\n",
              "      <td>0</td>\n",
              "    </tr>\n",
              "    <tr>\n",
              "      <th>5</th>\n",
              "      <td>A2IDCSC6NVONIZ</td>\n",
              "      <td>B007WTAJTO</td>\n",
              "      <td>2Cents!</td>\n",
              "      <td>[0, 0]</td>\n",
              "      <td>It's mini storage.  It doesn't do anything els...</td>\n",
              "      <td>% 2f</td>\n",
              "      <td>Not a lot to really be said</td>\n",
              "      <td>1367193600</td>\n",
              "      <td>2013-04-29</td>\n",
              "      <td>588</td>\n",
              "      <td>0</td>\n",
              "      <td>0</td>\n",
              "    </tr>\n",
              "    <tr>\n",
              "      <th>6</th>\n",
              "      <td>A26YHXZD5UFPVQ</td>\n",
              "      <td>B007WTAJTO</td>\n",
              "      <td>2K1Toaster</td>\n",
              "      <td>[0, 0]</td>\n",
              "      <td>I have it in my phone and it never skips a bea...</td>\n",
              "      <td>% 2f</td>\n",
              "      <td>Works well</td>\n",
              "      <td>1382140800</td>\n",
              "      <td>2013-10-19</td>\n",
              "      <td>415</td>\n",
              "      <td>0</td>\n",
              "      <td>0</td>\n",
              "    </tr>\n",
              "    <tr>\n",
              "      <th>7</th>\n",
              "      <td>A3CW0ZLUO5X2B1</td>\n",
              "      <td>B007WTAJTO</td>\n",
              "      <td>35-year Technology Consumer \"8-tracks to 802.11\"</td>\n",
              "      <td>[0, 0]</td>\n",
              "      <td>It's hard to believe how affordable digital ha...</td>\n",
              "      <td>% 2f</td>\n",
              "      <td>32 GB for less than two sawbucks...what's not ...</td>\n",
              "      <td>1404950400</td>\n",
              "      <td>2014-10-07</td>\n",
              "      <td>62</td>\n",
              "      <td>0</td>\n",
              "      <td>0</td>\n",
              "    </tr>\n",
              "    <tr>\n",
              "      <th>8</th>\n",
              "      <td>A2CYJO155QP33S</td>\n",
              "      <td>B007WTAJTO</td>\n",
              "      <td>4evryoung</td>\n",
              "      <td>[1, 1]</td>\n",
              "      <td>Works in a HTC Rezound.  Was running short of ...</td>\n",
              "      <td>% 2f</td>\n",
              "      <td>Loads of room</td>\n",
              "      <td>1395619200</td>\n",
              "      <td>2014-03-24</td>\n",
              "      <td>259</td>\n",
              "      <td>1</td>\n",
              "      <td>1</td>\n",
              "    </tr>\n",
              "    <tr>\n",
              "      <th>9</th>\n",
              "      <td>A2S7XG3ZC4VGOQ</td>\n",
              "      <td>B007WTAJTO</td>\n",
              "      <td>53rdcard</td>\n",
              "      <td>[0, 0]</td>\n",
              "      <td>in my galaxy s4, super fast card, and am total...</td>\n",
              "      <td>% 2f</td>\n",
              "      <td>works great</td>\n",
              "      <td>1381449600</td>\n",
              "      <td>2013-11-10</td>\n",
              "      <td>393</td>\n",
              "      <td>0</td>\n",
              "      <td>0</td>\n",
              "    </tr>\n",
              "  </tbody>\n",
              "</table>\n",
              "</div>\n",
              "    <div class=\"colab-df-buttons\">\n",
              "\n",
              "  <div class=\"colab-df-container\">\n",
              "    <button class=\"colab-df-convert\" onclick=\"convertToInteractive('df-d393d088-967b-48a9-a55f-2cb75c150c34')\"\n",
              "            title=\"Convert this dataframe to an interactive table.\"\n",
              "            style=\"display:none;\">\n",
              "\n",
              "  <svg xmlns=\"http://www.w3.org/2000/svg\" height=\"24px\" viewBox=\"0 -960 960 960\">\n",
              "    <path d=\"M120-120v-720h720v720H120Zm60-500h600v-160H180v160Zm220 220h160v-160H400v160Zm0 220h160v-160H400v160ZM180-400h160v-160H180v160Zm440 0h160v-160H620v160ZM180-180h160v-160H180v160Zm440 0h160v-160H620v160Z\"/>\n",
              "  </svg>\n",
              "    </button>\n",
              "\n",
              "  <style>\n",
              "    .colab-df-container {\n",
              "      display:flex;\n",
              "      gap: 12px;\n",
              "    }\n",
              "\n",
              "    .colab-df-convert {\n",
              "      background-color: #E8F0FE;\n",
              "      border: none;\n",
              "      border-radius: 50%;\n",
              "      cursor: pointer;\n",
              "      display: none;\n",
              "      fill: #1967D2;\n",
              "      height: 32px;\n",
              "      padding: 0 0 0 0;\n",
              "      width: 32px;\n",
              "    }\n",
              "\n",
              "    .colab-df-convert:hover {\n",
              "      background-color: #E2EBFA;\n",
              "      box-shadow: 0px 1px 2px rgba(60, 64, 67, 0.3), 0px 1px 3px 1px rgba(60, 64, 67, 0.15);\n",
              "      fill: #174EA6;\n",
              "    }\n",
              "\n",
              "    .colab-df-buttons div {\n",
              "      margin-bottom: 4px;\n",
              "    }\n",
              "\n",
              "    [theme=dark] .colab-df-convert {\n",
              "      background-color: #3B4455;\n",
              "      fill: #D2E3FC;\n",
              "    }\n",
              "\n",
              "    [theme=dark] .colab-df-convert:hover {\n",
              "      background-color: #434B5C;\n",
              "      box-shadow: 0px 1px 3px 1px rgba(0, 0, 0, 0.15);\n",
              "      filter: drop-shadow(0px 1px 2px rgba(0, 0, 0, 0.3));\n",
              "      fill: #FFFFFF;\n",
              "    }\n",
              "  </style>\n",
              "\n",
              "    <script>\n",
              "      const buttonEl =\n",
              "        document.querySelector('#df-d393d088-967b-48a9-a55f-2cb75c150c34 button.colab-df-convert');\n",
              "      buttonEl.style.display =\n",
              "        google.colab.kernel.accessAllowed ? 'block' : 'none';\n",
              "\n",
              "      async function convertToInteractive(key) {\n",
              "        const element = document.querySelector('#df-d393d088-967b-48a9-a55f-2cb75c150c34');\n",
              "        const dataTable =\n",
              "          await google.colab.kernel.invokeFunction('convertToInteractive',\n",
              "                                                    [key], {});\n",
              "        if (!dataTable) return;\n",
              "\n",
              "        const docLinkHtml = 'Like what you see? Visit the ' +\n",
              "          '<a target=\"_blank\" href=https://colab.research.google.com/notebooks/data_table.ipynb>data table notebook</a>'\n",
              "          + ' to learn more about interactive tables.';\n",
              "        element.innerHTML = '';\n",
              "        dataTable['output_type'] = 'display_data';\n",
              "        await google.colab.output.renderOutput(dataTable, element);\n",
              "        const docLink = document.createElement('div');\n",
              "        docLink.innerHTML = docLinkHtml;\n",
              "        element.appendChild(docLink);\n",
              "      }\n",
              "    </script>\n",
              "  </div>\n",
              "\n",
              "\n",
              "<div id=\"df-11304e08-9f0b-4902-a00b-5158b6cc6da0\">\n",
              "  <button class=\"colab-df-quickchart\" onclick=\"quickchart('df-11304e08-9f0b-4902-a00b-5158b6cc6da0')\"\n",
              "            title=\"Suggest charts\"\n",
              "            style=\"display:none;\">\n",
              "\n",
              "<svg xmlns=\"http://www.w3.org/2000/svg\" height=\"24px\"viewBox=\"0 0 24 24\"\n",
              "     width=\"24px\">\n",
              "    <g>\n",
              "        <path d=\"M19 3H5c-1.1 0-2 .9-2 2v14c0 1.1.9 2 2 2h14c1.1 0 2-.9 2-2V5c0-1.1-.9-2-2-2zM9 17H7v-7h2v7zm4 0h-2V7h2v10zm4 0h-2v-4h2v4z\"/>\n",
              "    </g>\n",
              "</svg>\n",
              "  </button>\n",
              "\n",
              "<style>\n",
              "  .colab-df-quickchart {\n",
              "      --bg-color: #E8F0FE;\n",
              "      --fill-color: #1967D2;\n",
              "      --hover-bg-color: #E2EBFA;\n",
              "      --hover-fill-color: #174EA6;\n",
              "      --disabled-fill-color: #AAA;\n",
              "      --disabled-bg-color: #DDD;\n",
              "  }\n",
              "\n",
              "  [theme=dark] .colab-df-quickchart {\n",
              "      --bg-color: #3B4455;\n",
              "      --fill-color: #D2E3FC;\n",
              "      --hover-bg-color: #434B5C;\n",
              "      --hover-fill-color: #FFFFFF;\n",
              "      --disabled-bg-color: #3B4455;\n",
              "      --disabled-fill-color: #666;\n",
              "  }\n",
              "\n",
              "  .colab-df-quickchart {\n",
              "    background-color: var(--bg-color);\n",
              "    border: none;\n",
              "    border-radius: 50%;\n",
              "    cursor: pointer;\n",
              "    display: none;\n",
              "    fill: var(--fill-color);\n",
              "    height: 32px;\n",
              "    padding: 0;\n",
              "    width: 32px;\n",
              "  }\n",
              "\n",
              "  .colab-df-quickchart:hover {\n",
              "    background-color: var(--hover-bg-color);\n",
              "    box-shadow: 0 1px 2px rgba(60, 64, 67, 0.3), 0 1px 3px 1px rgba(60, 64, 67, 0.15);\n",
              "    fill: var(--button-hover-fill-color);\n",
              "  }\n",
              "\n",
              "  .colab-df-quickchart-complete:disabled,\n",
              "  .colab-df-quickchart-complete:disabled:hover {\n",
              "    background-color: var(--disabled-bg-color);\n",
              "    fill: var(--disabled-fill-color);\n",
              "    box-shadow: none;\n",
              "  }\n",
              "\n",
              "  .colab-df-spinner {\n",
              "    border: 2px solid var(--fill-color);\n",
              "    border-color: transparent;\n",
              "    border-bottom-color: var(--fill-color);\n",
              "    animation:\n",
              "      spin 1s steps(1) infinite;\n",
              "  }\n",
              "\n",
              "  @keyframes spin {\n",
              "    0% {\n",
              "      border-color: transparent;\n",
              "      border-bottom-color: var(--fill-color);\n",
              "      border-left-color: var(--fill-color);\n",
              "    }\n",
              "    20% {\n",
              "      border-color: transparent;\n",
              "      border-left-color: var(--fill-color);\n",
              "      border-top-color: var(--fill-color);\n",
              "    }\n",
              "    30% {\n",
              "      border-color: transparent;\n",
              "      border-left-color: var(--fill-color);\n",
              "      border-top-color: var(--fill-color);\n",
              "      border-right-color: var(--fill-color);\n",
              "    }\n",
              "    40% {\n",
              "      border-color: transparent;\n",
              "      border-right-color: var(--fill-color);\n",
              "      border-top-color: var(--fill-color);\n",
              "    }\n",
              "    60% {\n",
              "      border-color: transparent;\n",
              "      border-right-color: var(--fill-color);\n",
              "    }\n",
              "    80% {\n",
              "      border-color: transparent;\n",
              "      border-right-color: var(--fill-color);\n",
              "      border-bottom-color: var(--fill-color);\n",
              "    }\n",
              "    90% {\n",
              "      border-color: transparent;\n",
              "      border-bottom-color: var(--fill-color);\n",
              "    }\n",
              "  }\n",
              "</style>\n",
              "\n",
              "  <script>\n",
              "    async function quickchart(key) {\n",
              "      const quickchartButtonEl =\n",
              "        document.querySelector('#' + key + ' button');\n",
              "      quickchartButtonEl.disabled = true;  // To prevent multiple clicks.\n",
              "      quickchartButtonEl.classList.add('colab-df-spinner');\n",
              "      try {\n",
              "        const charts = await google.colab.kernel.invokeFunction(\n",
              "            'suggestCharts', [key], {});\n",
              "      } catch (error) {\n",
              "        console.error('Error during call to suggestCharts:', error);\n",
              "      }\n",
              "      quickchartButtonEl.classList.remove('colab-df-spinner');\n",
              "      quickchartButtonEl.classList.add('colab-df-quickchart-complete');\n",
              "    }\n",
              "    (() => {\n",
              "      let quickchartButtonEl =\n",
              "        document.querySelector('#df-11304e08-9f0b-4902-a00b-5158b6cc6da0 button');\n",
              "      quickchartButtonEl.style.display =\n",
              "        google.colab.kernel.accessAllowed ? 'block' : 'none';\n",
              "    })();\n",
              "  </script>\n",
              "</div>\n",
              "\n",
              "    </div>\n",
              "  </div>\n"
            ],
            "application/vnd.google.colaboratory.intrinsic+json": {
              "type": "dataframe",
              "variable_name": "df",
              "summary": "{\n  \"name\": \"df\",\n  \"rows\": 4915,\n  \"fields\": [\n    {\n      \"column\": \"reviewerID\",\n      \"properties\": {\n        \"dtype\": \"string\",\n        \"num_unique_values\": 4915,\n        \"samples\": [\n          \"A3V5DNLW7DPMUA\",\n          \"A1F08OEM2LEJLK\",\n          \"AOOJ8Y18T3DGM\"\n        ],\n        \"semantic_type\": \"\",\n        \"description\": \"\"\n      }\n    },\n    {\n      \"column\": \"asin\",\n      \"properties\": {\n        \"dtype\": \"category\",\n        \"num_unique_values\": 1,\n        \"samples\": [\n          \"B007WTAJTO\"\n        ],\n        \"semantic_type\": \"\",\n        \"description\": \"\"\n      }\n    },\n    {\n      \"column\": \"reviewerName\",\n      \"properties\": {\n        \"dtype\": \"string\",\n        \"num_unique_values\": 4594,\n        \"samples\": [\n          \"nta699\"\n        ],\n        \"semantic_type\": \"\",\n        \"description\": \"\"\n      }\n    },\n    {\n      \"column\": \"helpful\",\n      \"properties\": {\n        \"dtype\": \"category\",\n        \"num_unique_values\": 42,\n        \"samples\": [\n          \"[1952, 2020]\"\n        ],\n        \"semantic_type\": \"\",\n        \"description\": \"\"\n      }\n    },\n    {\n      \"column\": \"reviewText\",\n      \"properties\": {\n        \"dtype\": \"string\",\n        \"num_unique_values\": 4912,\n        \"samples\": [\n          \"Bought this for extended memory in a Galaxy S III.  Great price. Easy to install and the phone recognized it instantly. Does what its supposed to do.\"\n        ],\n        \"semantic_type\": \"\",\n        \"description\": \"\"\n      }\n    },\n    {\n      \"column\": \"overall\",\n      \"properties\": {\n        \"dtype\": \"number\",\n        \"std\": 0.9968451383820338,\n        \"min\": 1.0,\n        \"max\": 5.0,\n        \"num_unique_values\": 5,\n        \"samples\": [\n          5.0\n        ],\n        \"semantic_type\": \"\",\n        \"description\": \"\"\n      }\n    },\n    {\n      \"column\": \"summary\",\n      \"properties\": {\n        \"dtype\": \"string\",\n        \"num_unique_values\": 3885,\n        \"samples\": [\n          \"NICE!!!\"\n        ],\n        \"semantic_type\": \"\",\n        \"description\": \"\"\n      }\n    },\n    {\n      \"column\": \"unixReviewTime\",\n      \"properties\": {\n        \"dtype\": \"number\",\n        \"std\": 15818574,\n        \"min\": 1339200000,\n        \"max\": 1406073600,\n        \"num_unique_values\": 690,\n        \"samples\": [\n          1386028800\n        ],\n        \"semantic_type\": \"\",\n        \"description\": \"\"\n      }\n    },\n    {\n      \"column\": \"reviewTime\",\n      \"properties\": {\n        \"dtype\": \"object\",\n        \"num_unique_values\": 690,\n        \"samples\": [\n          \"2013-03-12\"\n        ],\n        \"semantic_type\": \"\",\n        \"description\": \"\"\n      }\n    },\n    {\n      \"column\": \"day_diff\",\n      \"properties\": {\n        \"dtype\": \"number\",\n        \"std\": 209,\n        \"min\": 1,\n        \"max\": 1064,\n        \"num_unique_values\": 690,\n        \"samples\": [\n          636\n        ],\n        \"semantic_type\": \"\",\n        \"description\": \"\"\n      }\n    },\n    {\n      \"column\": \"helpful_yes\",\n      \"properties\": {\n        \"dtype\": \"number\",\n        \"std\": 41,\n        \"min\": 0,\n        \"max\": 1952,\n        \"num_unique_values\": 23,\n        \"samples\": [\n          1428\n        ],\n        \"semantic_type\": \"\",\n        \"description\": \"\"\n      }\n    },\n    {\n      \"column\": \"total_vote\",\n      \"properties\": {\n        \"dtype\": \"number\",\n        \"std\": 44,\n        \"min\": 0,\n        \"max\": 2020,\n        \"num_unique_values\": 26,\n        \"samples\": [\n          495\n        ],\n        \"semantic_type\": \"\",\n        \"description\": \"\"\n      }\n    }\n  ]\n}"
            }
          },
          "metadata": {},
          "execution_count": 66
        }
      ]
    },
    {
      "cell_type": "markdown",
      "source": [
        "Normalizing Case Folding <br>\n",
        "1. Büyük harften küçük harfe çevirme\n",
        "2. Noktalama işareti temizliği\n",
        "3. Numeric değer temizliği"
      ],
      "metadata": {
        "id": "XKzMG8--mCmT"
      }
    },
    {
      "cell_type": "code",
      "source": [
        "df[\"reviewText\"]"
      ],
      "metadata": {
        "colab": {
          "base_uri": "https://localhost:8080/"
        },
        "id": "vEDFzpjEnGAj",
        "outputId": "5431f269-2726-4bd2-a1f1-66df1ff1be87"
      },
      "execution_count": 67,
      "outputs": [
        {
          "output_type": "execute_result",
          "data": {
            "text/plain": [
              "0                                              No issues.\n",
              "1       Purchased this for my device, it worked as adv...\n",
              "2       it works as expected. I should have sprung for...\n",
              "3       This think has worked out great.Had a diff. br...\n",
              "4       Bought it with Retail Packaging, arrived legit...\n",
              "                              ...                        \n",
              "4910    I bought this Sandisk 16GB Class 10 to use wit...\n",
              "4911    Used this for extending the capabilities of my...\n",
              "4912    Great card that is very fast and reliable. It ...\n",
              "4913    Good amount of space for the stuff I want to d...\n",
              "4914    I've heard bad things about this 64gb Micro SD...\n",
              "Name: reviewText, Length: 4915, dtype: object"
            ]
          },
          "metadata": {},
          "execution_count": 67
        }
      ]
    },
    {
      "cell_type": "code",
      "source": [
        "df[\"reviewText\"]=df[\"reviewText\"].str.lower()\n",
        "df[\"reviewText\"]"
      ],
      "metadata": {
        "colab": {
          "base_uri": "https://localhost:8080/"
        },
        "id": "0flz8_pDl83J",
        "outputId": "dfae7439-b828-4ff7-ac87-28404c822fbb"
      },
      "execution_count": 68,
      "outputs": [
        {
          "output_type": "execute_result",
          "data": {
            "text/plain": [
              "0                                              no issues.\n",
              "1       purchased this for my device, it worked as adv...\n",
              "2       it works as expected. i should have sprung for...\n",
              "3       this think has worked out great.had a diff. br...\n",
              "4       bought it with retail packaging, arrived legit...\n",
              "                              ...                        \n",
              "4910    i bought this sandisk 16gb class 10 to use wit...\n",
              "4911    used this for extending the capabilities of my...\n",
              "4912    great card that is very fast and reliable. it ...\n",
              "4913    good amount of space for the stuff i want to d...\n",
              "4914    i've heard bad things about this 64gb micro sd...\n",
              "Name: reviewText, Length: 4915, dtype: object"
            ]
          },
          "metadata": {},
          "execution_count": 68
        }
      ]
    },
    {
      "cell_type": "code",
      "source": [
        "df[\"reviewText\"]=df[\"reviewText\"].str.replace(\"[^\\w\\s]\",\"\", regex=True)\n",
        "df[\"reviewText\"]"
      ],
      "metadata": {
        "colab": {
          "base_uri": "https://localhost:8080/"
        },
        "id": "UFbwf69lm7OY",
        "outputId": "dfe97036-6324-4697-a0d5-087737000d17"
      },
      "execution_count": 69,
      "outputs": [
        {
          "output_type": "execute_result",
          "data": {
            "text/plain": [
              "0                                               no issues\n",
              "1       purchased this for my device it worked as adve...\n",
              "2       it works as expected i should have sprung for ...\n",
              "3       this think has worked out greathad a diff bran...\n",
              "4       bought it with retail packaging arrived legit ...\n",
              "                              ...                        \n",
              "4910    i bought this sandisk 16gb class 10 to use wit...\n",
              "4911    used this for extending the capabilities of my...\n",
              "4912    great card that is very fast and reliable it c...\n",
              "4913    good amount of space for the stuff i want to d...\n",
              "4914    ive heard bad things about this 64gb micro sd ...\n",
              "Name: reviewText, Length: 4915, dtype: object"
            ]
          },
          "metadata": {},
          "execution_count": 69
        }
      ]
    },
    {
      "cell_type": "code",
      "source": [
        "df[\"reviewText\"]=df[\"reviewText\"].str.replace(\"\\d\",\"\", regex=True)\n",
        "df[\"reviewText\"]"
      ],
      "metadata": {
        "colab": {
          "base_uri": "https://localhost:8080/"
        },
        "id": "kIszv7ConVcY",
        "outputId": "4a37b830-f31b-4ade-9efe-80432ae2ecd1"
      },
      "execution_count": 70,
      "outputs": [
        {
          "output_type": "execute_result",
          "data": {
            "text/plain": [
              "0                                               no issues\n",
              "1       purchased this for my device it worked as adve...\n",
              "2       it works as expected i should have sprung for ...\n",
              "3       this think has worked out greathad a diff bran...\n",
              "4       bought it with retail packaging arrived legit ...\n",
              "                              ...                        \n",
              "4910    i bought this sandisk gb class  to use with my...\n",
              "4911    used this for extending the capabilities of my...\n",
              "4912    great card that is very fast and reliable it c...\n",
              "4913    good amount of space for the stuff i want to d...\n",
              "4914    ive heard bad things about this gb micro sd ca...\n",
              "Name: reviewText, Length: 4915, dtype: object"
            ]
          },
          "metadata": {},
          "execution_count": 70
        }
      ]
    },
    {
      "cell_type": "markdown",
      "source": [
        "Stopwords"
      ],
      "metadata": {
        "id": "TrqKmX2uqMkn"
      }
    },
    {
      "cell_type": "code",
      "source": [
        "import nltk\n",
        "nltk.download(\"stopwords\")"
      ],
      "metadata": {
        "id": "MXAXv3KGo0vb",
        "colab": {
          "base_uri": "https://localhost:8080/"
        },
        "outputId": "c9eb3fec-855f-438f-a8c1-e3dfa4dc3cd0"
      },
      "execution_count": 71,
      "outputs": [
        {
          "output_type": "stream",
          "name": "stderr",
          "text": [
            "[nltk_data] Downloading package stopwords to /root/nltk_data...\n",
            "[nltk_data]   Package stopwords is already up-to-date!\n"
          ]
        },
        {
          "output_type": "execute_result",
          "data": {
            "text/plain": [
              "True"
            ]
          },
          "metadata": {},
          "execution_count": 71
        }
      ]
    },
    {
      "cell_type": "code",
      "source": [
        "SW=stopwords.words(\"english\")\n"
      ],
      "metadata": {
        "id": "Il3HjhoFqXbF"
      },
      "execution_count": 72,
      "outputs": []
    },
    {
      "cell_type": "code",
      "source": [
        "df[\"reviewText\"]=df[\"reviewText\"].apply(lambda x: \" \".join(x for x in str(x).split() if x not in SW))\n",
        "df[\"reviewText\"]"
      ],
      "metadata": {
        "colab": {
          "base_uri": "https://localhost:8080/"
        },
        "id": "XCGrvlxMqqKW",
        "outputId": "70df172b-df30-4e0f-b333-46152dfd7863"
      },
      "execution_count": 73,
      "outputs": [
        {
          "output_type": "execute_result",
          "data": {
            "text/plain": [
              "0                                                  issues\n",
              "1       purchased device worked advertised never much ...\n",
              "2       works expected sprung higher capacity think ma...\n",
              "3       think worked greathad diff bran gb card went s...\n",
              "4       bought retail packaging arrived legit orange e...\n",
              "                              ...                        \n",
              "4910    bought sandisk gb class use htc inspire months...\n",
              "4911    used extending capabilities samsung galaxy not...\n",
              "4912    great card fast reliable comes optional adapte...\n",
              "4913          good amount space stuff want fits gopro say\n",
              "4914    ive heard bad things gb micro sd card crapping...\n",
              "Name: reviewText, Length: 4915, dtype: object"
            ]
          },
          "metadata": {},
          "execution_count": 73
        }
      ]
    },
    {
      "cell_type": "markdown",
      "source": [
        "Rarewords"
      ],
      "metadata": {
        "id": "aDyr1Ut8sO-y"
      }
    },
    {
      "cell_type": "code",
      "source": [
        "#her kelimenin ne kadar sıklıkla geçtiğini tespit etmemize yarar\n",
        "temp_df = pd.Series(' '.join(df['reviewText']).split()).value_counts()\n",
        "temp_df"
      ],
      "metadata": {
        "colab": {
          "base_uri": "https://localhost:8080/"
        },
        "id": "Jm8R9AX7rIre",
        "outputId": "80e1bf6f-c3e8-40a1-f886-c44439bceac3"
      },
      "execution_count": 74,
      "outputs": [
        {
          "output_type": "execute_result",
          "data": {
            "text/plain": [
              "card          4603\n",
              "gb            1725\n",
              "phone         1685\n",
              "works         1559\n",
              "great         1445\n",
              "              ... \n",
              "sharper          1\n",
              "cheapos          1\n",
              "gate             1\n",
              "measuring        1\n",
              "stealwould       1\n",
              "Name: count, Length: 9701, dtype: int64"
            ]
          },
          "metadata": {},
          "execution_count": 74
        }
      ]
    },
    {
      "cell_type": "code",
      "source": [
        "drop = temp_df[temp_df <= 1]\n",
        "drop"
      ],
      "metadata": {
        "colab": {
          "base_uri": "https://localhost:8080/"
        },
        "id": "bqcUndWftG6v",
        "outputId": "44634fac-ebfe-4795-90dc-92ac4440ebc4"
      },
      "execution_count": 75,
      "outputs": [
        {
          "output_type": "execute_result",
          "data": {
            "text/plain": [
              "conclusionmy       1\n",
              "mbsbuy             1\n",
              "flimsier           1\n",
              "disappointedtry    1\n",
              "priceokay          1\n",
              "                  ..\n",
              "sharper            1\n",
              "cheapos            1\n",
              "gate               1\n",
              "measuring          1\n",
              "stealwould         1\n",
              "Name: count, Length: 5612, dtype: int64"
            ]
          },
          "metadata": {},
          "execution_count": 75
        }
      ]
    },
    {
      "cell_type": "code",
      "source": [
        "df['reviewText'] = df['reviewText'].apply(lambda x: \" \".join(x for x in x.split() if x not in drop))\n",
        "df['reviewText']"
      ],
      "metadata": {
        "colab": {
          "base_uri": "https://localhost:8080/"
        },
        "id": "ObOwXfNAtPt2",
        "outputId": "a9821b67-caa4-404a-a244-546b4c7708d2"
      },
      "execution_count": 76,
      "outputs": [
        {
          "output_type": "execute_result",
          "data": {
            "text/plain": [
              "0                                                  issues\n",
              "1       purchased device worked advertised never much ...\n",
              "2       works expected higher capacity think made bit ...\n",
              "3       think worked gb card went south one held prett...\n",
              "4       bought retail packaging arrived legit envelope...\n",
              "                              ...                        \n",
              "4910    bought sandisk gb class use htc inspire months...\n",
              "4911    used capabilities samsung galaxy note greatly ...\n",
              "4912    great card fast reliable comes optional adapte...\n",
              "4913          good amount space stuff want fits gopro say\n",
              "4914    ive heard bad things gb micro sd card crapping...\n",
              "Name: reviewText, Length: 4915, dtype: object"
            ]
          },
          "metadata": {},
          "execution_count": 76
        }
      ]
    },
    {
      "cell_type": "markdown",
      "source": [
        "Tokenization <br>\n",
        "Her kelimeyi token haline getirme işlemi"
      ],
      "metadata": {
        "id": "900wcIQFuFb9"
      }
    },
    {
      "cell_type": "code",
      "source": [
        "nltk.download(\"punkt\")"
      ],
      "metadata": {
        "colab": {
          "base_uri": "https://localhost:8080/"
        },
        "id": "RcP9HRoyti4u",
        "outputId": "11ea7525-37f5-472b-fea7-645742bba468"
      },
      "execution_count": 77,
      "outputs": [
        {
          "output_type": "stream",
          "name": "stderr",
          "text": [
            "[nltk_data] Downloading package punkt to /root/nltk_data...\n",
            "[nltk_data]   Package punkt is already up-to-date!\n"
          ]
        },
        {
          "output_type": "execute_result",
          "data": {
            "text/plain": [
              "True"
            ]
          },
          "metadata": {},
          "execution_count": 77
        }
      ]
    },
    {
      "cell_type": "code",
      "source": [
        "df['reviewText'].apply(lambda x: TextBlob(' '.join(x)).words).head()\n",
        "df['reviewText']"
      ],
      "metadata": {
        "colab": {
          "base_uri": "https://localhost:8080/"
        },
        "id": "sIp8Yw0pwgMi",
        "outputId": "505dafe3-9445-47b0-8767-7491727f386f"
      },
      "execution_count": 78,
      "outputs": [
        {
          "output_type": "execute_result",
          "data": {
            "text/plain": [
              "0                                                  issues\n",
              "1       purchased device worked advertised never much ...\n",
              "2       works expected higher capacity think made bit ...\n",
              "3       think worked gb card went south one held prett...\n",
              "4       bought retail packaging arrived legit envelope...\n",
              "                              ...                        \n",
              "4910    bought sandisk gb class use htc inspire months...\n",
              "4911    used capabilities samsung galaxy note greatly ...\n",
              "4912    great card fast reliable comes optional adapte...\n",
              "4913          good amount space stuff want fits gopro say\n",
              "4914    ive heard bad things gb micro sd card crapping...\n",
              "Name: reviewText, Length: 4915, dtype: object"
            ]
          },
          "metadata": {},
          "execution_count": 78
        }
      ]
    },
    {
      "cell_type": "code",
      "source": [
        "df['reviewText'] = df['reviewText'].apply(lambda x: nltk.word_tokenize(x))\n",
        "df['reviewText']"
      ],
      "metadata": {
        "colab": {
          "base_uri": "https://localhost:8080/"
        },
        "id": "V-hRSfYHz-me",
        "outputId": "951a739c-a36e-416a-86eb-e4c5a24f698f"
      },
      "execution_count": 79,
      "outputs": [
        {
          "output_type": "execute_result",
          "data": {
            "text/plain": [
              "0                                                [issues]\n",
              "1       [purchased, device, worked, advertised, never,...\n",
              "2       [works, expected, higher, capacity, think, mad...\n",
              "3       [think, worked, gb, card, went, south, one, he...\n",
              "4       [bought, retail, packaging, arrived, legit, en...\n",
              "                              ...                        \n",
              "4910    [bought, sandisk, gb, class, use, htc, inspire...\n",
              "4911    [used, capabilities, samsung, galaxy, note, gr...\n",
              "4912    [great, card, fast, reliable, comes, optional,...\n",
              "4913    [good, amount, space, stuff, want, fits, gopro...\n",
              "4914    [ive, heard, bad, things, gb, micro, sd, card,...\n",
              "Name: reviewText, Length: 4915, dtype: object"
            ]
          },
          "metadata": {},
          "execution_count": 79
        }
      ]
    },
    {
      "cell_type": "markdown",
      "source": [
        "Lemmatization <br>\n",
        "Kelimeleri köklerine ayırma"
      ],
      "metadata": {
        "id": "Y8cZc5M1x5Da"
      }
    },
    {
      "cell_type": "code",
      "source": [
        "nltk.download(\"wordnet\")"
      ],
      "metadata": {
        "colab": {
          "base_uri": "https://localhost:8080/"
        },
        "id": "o7ZnDRJUxIHY",
        "outputId": "f1d48fe5-f99d-48a1-bf0f-c1f0d4aca809"
      },
      "execution_count": 80,
      "outputs": [
        {
          "output_type": "stream",
          "name": "stderr",
          "text": [
            "[nltk_data] Downloading package wordnet to /root/nltk_data...\n",
            "[nltk_data]   Package wordnet is already up-to-date!\n"
          ]
        },
        {
          "output_type": "execute_result",
          "data": {
            "text/plain": [
              "True"
            ]
          },
          "metadata": {},
          "execution_count": 80
        }
      ]
    },
    {
      "cell_type": "code",
      "source": [
        "df['reviewText'] = df['reviewText'].apply(lambda x: \" \".join([Word(word).lemmatize() for word in x]))\n",
        "df['reviewText']"
      ],
      "metadata": {
        "colab": {
          "base_uri": "https://localhost:8080/"
        },
        "id": "LL3yKZ1UyN0g",
        "outputId": "2a629587-450e-4984-b75d-57bfc37c4549"
      },
      "execution_count": 81,
      "outputs": [
        {
          "output_type": "execute_result",
          "data": {
            "text/plain": [
              "0                                                   issue\n",
              "1       purchased device worked advertised never much ...\n",
              "2       work expected higher capacity think made bit e...\n",
              "3       think worked gb card went south one held prett...\n",
              "4       bought retail packaging arrived legit envelope...\n",
              "                              ...                        \n",
              "4910    bought sandisk gb class use htc inspire month ...\n",
              "4911    used capability samsung galaxy note greatly ex...\n",
              "4912    great card fast reliable come optional adapter...\n",
              "4913           good amount space stuff want fit gopro say\n",
              "4914    ive heard bad thing gb micro sd card crapping ...\n",
              "Name: reviewText, Length: 4915, dtype: object"
            ]
          },
          "metadata": {},
          "execution_count": 81
        }
      ]
    },
    {
      "cell_type": "code",
      "source": [
        "tf = df[\"reviewText\"].str.split(expand=True).stack().value_counts().reset_index()"
      ],
      "metadata": {
        "id": "IYzsmU-VyYXw"
      },
      "execution_count": 82,
      "outputs": []
    },
    {
      "cell_type": "code",
      "source": [
        "tf.colums = [\"words\", \"tf\"]\n",
        "tf"
      ],
      "metadata": {
        "colab": {
          "base_uri": "https://localhost:8080/",
          "height": 424
        },
        "id": "zEgZ96bI0oOn",
        "outputId": "ad882f07-d27f-41b4-dfb7-6fdb23258537"
      },
      "execution_count": 83,
      "outputs": [
        {
          "output_type": "execute_result",
          "data": {
            "text/plain": [
              "          index  count\n",
              "0          card   5537\n",
              "1          work   2044\n",
              "2         phone   1909\n",
              "3            gb   1756\n",
              "4         great   1445\n",
              "...         ...    ...\n",
              "3683    itgreat      2\n",
              "3684  undamaged      2\n",
              "3685   estimate      2\n",
              "3686       zune      2\n",
              "3687     chkdsk      2\n",
              "\n",
              "[3688 rows x 2 columns]"
            ],
            "text/html": [
              "\n",
              "  <div id=\"df-465a567e-ab2c-4de0-ba9c-897bdfc7211e\" class=\"colab-df-container\">\n",
              "    <div>\n",
              "<style scoped>\n",
              "    .dataframe tbody tr th:only-of-type {\n",
              "        vertical-align: middle;\n",
              "    }\n",
              "\n",
              "    .dataframe tbody tr th {\n",
              "        vertical-align: top;\n",
              "    }\n",
              "\n",
              "    .dataframe thead th {\n",
              "        text-align: right;\n",
              "    }\n",
              "</style>\n",
              "<table border=\"1\" class=\"dataframe\">\n",
              "  <thead>\n",
              "    <tr style=\"text-align: right;\">\n",
              "      <th></th>\n",
              "      <th>index</th>\n",
              "      <th>count</th>\n",
              "    </tr>\n",
              "  </thead>\n",
              "  <tbody>\n",
              "    <tr>\n",
              "      <th>0</th>\n",
              "      <td>card</td>\n",
              "      <td>5537</td>\n",
              "    </tr>\n",
              "    <tr>\n",
              "      <th>1</th>\n",
              "      <td>work</td>\n",
              "      <td>2044</td>\n",
              "    </tr>\n",
              "    <tr>\n",
              "      <th>2</th>\n",
              "      <td>phone</td>\n",
              "      <td>1909</td>\n",
              "    </tr>\n",
              "    <tr>\n",
              "      <th>3</th>\n",
              "      <td>gb</td>\n",
              "      <td>1756</td>\n",
              "    </tr>\n",
              "    <tr>\n",
              "      <th>4</th>\n",
              "      <td>great</td>\n",
              "      <td>1445</td>\n",
              "    </tr>\n",
              "    <tr>\n",
              "      <th>...</th>\n",
              "      <td>...</td>\n",
              "      <td>...</td>\n",
              "    </tr>\n",
              "    <tr>\n",
              "      <th>3683</th>\n",
              "      <td>itgreat</td>\n",
              "      <td>2</td>\n",
              "    </tr>\n",
              "    <tr>\n",
              "      <th>3684</th>\n",
              "      <td>undamaged</td>\n",
              "      <td>2</td>\n",
              "    </tr>\n",
              "    <tr>\n",
              "      <th>3685</th>\n",
              "      <td>estimate</td>\n",
              "      <td>2</td>\n",
              "    </tr>\n",
              "    <tr>\n",
              "      <th>3686</th>\n",
              "      <td>zune</td>\n",
              "      <td>2</td>\n",
              "    </tr>\n",
              "    <tr>\n",
              "      <th>3687</th>\n",
              "      <td>chkdsk</td>\n",
              "      <td>2</td>\n",
              "    </tr>\n",
              "  </tbody>\n",
              "</table>\n",
              "<p>3688 rows × 2 columns</p>\n",
              "</div>\n",
              "    <div class=\"colab-df-buttons\">\n",
              "\n",
              "  <div class=\"colab-df-container\">\n",
              "    <button class=\"colab-df-convert\" onclick=\"convertToInteractive('df-465a567e-ab2c-4de0-ba9c-897bdfc7211e')\"\n",
              "            title=\"Convert this dataframe to an interactive table.\"\n",
              "            style=\"display:none;\">\n",
              "\n",
              "  <svg xmlns=\"http://www.w3.org/2000/svg\" height=\"24px\" viewBox=\"0 -960 960 960\">\n",
              "    <path d=\"M120-120v-720h720v720H120Zm60-500h600v-160H180v160Zm220 220h160v-160H400v160Zm0 220h160v-160H400v160ZM180-400h160v-160H180v160Zm440 0h160v-160H620v160ZM180-180h160v-160H180v160Zm440 0h160v-160H620v160Z\"/>\n",
              "  </svg>\n",
              "    </button>\n",
              "\n",
              "  <style>\n",
              "    .colab-df-container {\n",
              "      display:flex;\n",
              "      gap: 12px;\n",
              "    }\n",
              "\n",
              "    .colab-df-convert {\n",
              "      background-color: #E8F0FE;\n",
              "      border: none;\n",
              "      border-radius: 50%;\n",
              "      cursor: pointer;\n",
              "      display: none;\n",
              "      fill: #1967D2;\n",
              "      height: 32px;\n",
              "      padding: 0 0 0 0;\n",
              "      width: 32px;\n",
              "    }\n",
              "\n",
              "    .colab-df-convert:hover {\n",
              "      background-color: #E2EBFA;\n",
              "      box-shadow: 0px 1px 2px rgba(60, 64, 67, 0.3), 0px 1px 3px 1px rgba(60, 64, 67, 0.15);\n",
              "      fill: #174EA6;\n",
              "    }\n",
              "\n",
              "    .colab-df-buttons div {\n",
              "      margin-bottom: 4px;\n",
              "    }\n",
              "\n",
              "    [theme=dark] .colab-df-convert {\n",
              "      background-color: #3B4455;\n",
              "      fill: #D2E3FC;\n",
              "    }\n",
              "\n",
              "    [theme=dark] .colab-df-convert:hover {\n",
              "      background-color: #434B5C;\n",
              "      box-shadow: 0px 1px 3px 1px rgba(0, 0, 0, 0.15);\n",
              "      filter: drop-shadow(0px 1px 2px rgba(0, 0, 0, 0.3));\n",
              "      fill: #FFFFFF;\n",
              "    }\n",
              "  </style>\n",
              "\n",
              "    <script>\n",
              "      const buttonEl =\n",
              "        document.querySelector('#df-465a567e-ab2c-4de0-ba9c-897bdfc7211e button.colab-df-convert');\n",
              "      buttonEl.style.display =\n",
              "        google.colab.kernel.accessAllowed ? 'block' : 'none';\n",
              "\n",
              "      async function convertToInteractive(key) {\n",
              "        const element = document.querySelector('#df-465a567e-ab2c-4de0-ba9c-897bdfc7211e');\n",
              "        const dataTable =\n",
              "          await google.colab.kernel.invokeFunction('convertToInteractive',\n",
              "                                                    [key], {});\n",
              "        if (!dataTable) return;\n",
              "\n",
              "        const docLinkHtml = 'Like what you see? Visit the ' +\n",
              "          '<a target=\"_blank\" href=https://colab.research.google.com/notebooks/data_table.ipynb>data table notebook</a>'\n",
              "          + ' to learn more about interactive tables.';\n",
              "        element.innerHTML = '';\n",
              "        dataTable['output_type'] = 'display_data';\n",
              "        await google.colab.output.renderOutput(dataTable, element);\n",
              "        const docLink = document.createElement('div');\n",
              "        docLink.innerHTML = docLinkHtml;\n",
              "        element.appendChild(docLink);\n",
              "      }\n",
              "    </script>\n",
              "  </div>\n",
              "\n",
              "\n",
              "<div id=\"df-e406f7e0-f8ed-4612-ae4b-e5cd739ba414\">\n",
              "  <button class=\"colab-df-quickchart\" onclick=\"quickchart('df-e406f7e0-f8ed-4612-ae4b-e5cd739ba414')\"\n",
              "            title=\"Suggest charts\"\n",
              "            style=\"display:none;\">\n",
              "\n",
              "<svg xmlns=\"http://www.w3.org/2000/svg\" height=\"24px\"viewBox=\"0 0 24 24\"\n",
              "     width=\"24px\">\n",
              "    <g>\n",
              "        <path d=\"M19 3H5c-1.1 0-2 .9-2 2v14c0 1.1.9 2 2 2h14c1.1 0 2-.9 2-2V5c0-1.1-.9-2-2-2zM9 17H7v-7h2v7zm4 0h-2V7h2v10zm4 0h-2v-4h2v4z\"/>\n",
              "    </g>\n",
              "</svg>\n",
              "  </button>\n",
              "\n",
              "<style>\n",
              "  .colab-df-quickchart {\n",
              "      --bg-color: #E8F0FE;\n",
              "      --fill-color: #1967D2;\n",
              "      --hover-bg-color: #E2EBFA;\n",
              "      --hover-fill-color: #174EA6;\n",
              "      --disabled-fill-color: #AAA;\n",
              "      --disabled-bg-color: #DDD;\n",
              "  }\n",
              "\n",
              "  [theme=dark] .colab-df-quickchart {\n",
              "      --bg-color: #3B4455;\n",
              "      --fill-color: #D2E3FC;\n",
              "      --hover-bg-color: #434B5C;\n",
              "      --hover-fill-color: #FFFFFF;\n",
              "      --disabled-bg-color: #3B4455;\n",
              "      --disabled-fill-color: #666;\n",
              "  }\n",
              "\n",
              "  .colab-df-quickchart {\n",
              "    background-color: var(--bg-color);\n",
              "    border: none;\n",
              "    border-radius: 50%;\n",
              "    cursor: pointer;\n",
              "    display: none;\n",
              "    fill: var(--fill-color);\n",
              "    height: 32px;\n",
              "    padding: 0;\n",
              "    width: 32px;\n",
              "  }\n",
              "\n",
              "  .colab-df-quickchart:hover {\n",
              "    background-color: var(--hover-bg-color);\n",
              "    box-shadow: 0 1px 2px rgba(60, 64, 67, 0.3), 0 1px 3px 1px rgba(60, 64, 67, 0.15);\n",
              "    fill: var(--button-hover-fill-color);\n",
              "  }\n",
              "\n",
              "  .colab-df-quickchart-complete:disabled,\n",
              "  .colab-df-quickchart-complete:disabled:hover {\n",
              "    background-color: var(--disabled-bg-color);\n",
              "    fill: var(--disabled-fill-color);\n",
              "    box-shadow: none;\n",
              "  }\n",
              "\n",
              "  .colab-df-spinner {\n",
              "    border: 2px solid var(--fill-color);\n",
              "    border-color: transparent;\n",
              "    border-bottom-color: var(--fill-color);\n",
              "    animation:\n",
              "      spin 1s steps(1) infinite;\n",
              "  }\n",
              "\n",
              "  @keyframes spin {\n",
              "    0% {\n",
              "      border-color: transparent;\n",
              "      border-bottom-color: var(--fill-color);\n",
              "      border-left-color: var(--fill-color);\n",
              "    }\n",
              "    20% {\n",
              "      border-color: transparent;\n",
              "      border-left-color: var(--fill-color);\n",
              "      border-top-color: var(--fill-color);\n",
              "    }\n",
              "    30% {\n",
              "      border-color: transparent;\n",
              "      border-left-color: var(--fill-color);\n",
              "      border-top-color: var(--fill-color);\n",
              "      border-right-color: var(--fill-color);\n",
              "    }\n",
              "    40% {\n",
              "      border-color: transparent;\n",
              "      border-right-color: var(--fill-color);\n",
              "      border-top-color: var(--fill-color);\n",
              "    }\n",
              "    60% {\n",
              "      border-color: transparent;\n",
              "      border-right-color: var(--fill-color);\n",
              "    }\n",
              "    80% {\n",
              "      border-color: transparent;\n",
              "      border-right-color: var(--fill-color);\n",
              "      border-bottom-color: var(--fill-color);\n",
              "    }\n",
              "    90% {\n",
              "      border-color: transparent;\n",
              "      border-bottom-color: var(--fill-color);\n",
              "    }\n",
              "  }\n",
              "</style>\n",
              "\n",
              "  <script>\n",
              "    async function quickchart(key) {\n",
              "      const quickchartButtonEl =\n",
              "        document.querySelector('#' + key + ' button');\n",
              "      quickchartButtonEl.disabled = true;  // To prevent multiple clicks.\n",
              "      quickchartButtonEl.classList.add('colab-df-spinner');\n",
              "      try {\n",
              "        const charts = await google.colab.kernel.invokeFunction(\n",
              "            'suggestCharts', [key], {});\n",
              "      } catch (error) {\n",
              "        console.error('Error during call to suggestCharts:', error);\n",
              "      }\n",
              "      quickchartButtonEl.classList.remove('colab-df-spinner');\n",
              "      quickchartButtonEl.classList.add('colab-df-quickchart-complete');\n",
              "    }\n",
              "    (() => {\n",
              "      let quickchartButtonEl =\n",
              "        document.querySelector('#df-e406f7e0-f8ed-4612-ae4b-e5cd739ba414 button');\n",
              "      quickchartButtonEl.style.display =\n",
              "        google.colab.kernel.accessAllowed ? 'block' : 'none';\n",
              "    })();\n",
              "  </script>\n",
              "</div>\n",
              "\n",
              "  <div id=\"id_2e7d61b3-0323-4b11-8987-75c4dd0376c1\">\n",
              "    <style>\n",
              "      .colab-df-generate {\n",
              "        background-color: #E8F0FE;\n",
              "        border: none;\n",
              "        border-radius: 50%;\n",
              "        cursor: pointer;\n",
              "        display: none;\n",
              "        fill: #1967D2;\n",
              "        height: 32px;\n",
              "        padding: 0 0 0 0;\n",
              "        width: 32px;\n",
              "      }\n",
              "\n",
              "      .colab-df-generate:hover {\n",
              "        background-color: #E2EBFA;\n",
              "        box-shadow: 0px 1px 2px rgba(60, 64, 67, 0.3), 0px 1px 3px 1px rgba(60, 64, 67, 0.15);\n",
              "        fill: #174EA6;\n",
              "      }\n",
              "\n",
              "      [theme=dark] .colab-df-generate {\n",
              "        background-color: #3B4455;\n",
              "        fill: #D2E3FC;\n",
              "      }\n",
              "\n",
              "      [theme=dark] .colab-df-generate:hover {\n",
              "        background-color: #434B5C;\n",
              "        box-shadow: 0px 1px 3px 1px rgba(0, 0, 0, 0.15);\n",
              "        filter: drop-shadow(0px 1px 2px rgba(0, 0, 0, 0.3));\n",
              "        fill: #FFFFFF;\n",
              "      }\n",
              "    </style>\n",
              "    <button class=\"colab-df-generate\" onclick=\"generateWithVariable('tf')\"\n",
              "            title=\"Generate code using this dataframe.\"\n",
              "            style=\"display:none;\">\n",
              "\n",
              "  <svg xmlns=\"http://www.w3.org/2000/svg\" height=\"24px\"viewBox=\"0 0 24 24\"\n",
              "       width=\"24px\">\n",
              "    <path d=\"M7,19H8.4L18.45,9,17,7.55,7,17.6ZM5,21V16.75L18.45,3.32a2,2,0,0,1,2.83,0l1.4,1.43a1.91,1.91,0,0,1,.58,1.4,1.91,1.91,0,0,1-.58,1.4L9.25,21ZM18.45,9,17,7.55Zm-12,3A5.31,5.31,0,0,0,4.9,8.1,5.31,5.31,0,0,0,1,6.5,5.31,5.31,0,0,0,4.9,4.9,5.31,5.31,0,0,0,6.5,1,5.31,5.31,0,0,0,8.1,4.9,5.31,5.31,0,0,0,12,6.5,5.46,5.46,0,0,0,6.5,12Z\"/>\n",
              "  </svg>\n",
              "    </button>\n",
              "    <script>\n",
              "      (() => {\n",
              "      const buttonEl =\n",
              "        document.querySelector('#id_2e7d61b3-0323-4b11-8987-75c4dd0376c1 button.colab-df-generate');\n",
              "      buttonEl.style.display =\n",
              "        google.colab.kernel.accessAllowed ? 'block' : 'none';\n",
              "\n",
              "      buttonEl.onclick = () => {\n",
              "        google.colab.notebook.generateWithVariable('tf');\n",
              "      }\n",
              "      })();\n",
              "    </script>\n",
              "  </div>\n",
              "\n",
              "    </div>\n",
              "  </div>\n"
            ],
            "application/vnd.google.colaboratory.intrinsic+json": {
              "type": "dataframe",
              "variable_name": "tf",
              "summary": "{\n  \"name\": \"tf\",\n  \"rows\": 3688,\n  \"fields\": [\n    {\n      \"column\": \"index\",\n      \"properties\": {\n        \"dtype\": \"string\",\n        \"num_unique_values\": 3688,\n        \"samples\": [\n          \"mad\",\n          \"intense\",\n          \"disappointed\"\n        ],\n        \"semantic_type\": \"\",\n        \"description\": \"\"\n      }\n    },\n    {\n      \"column\": \"count\",\n      \"properties\": {\n        \"dtype\": \"number\",\n        \"std\": 140,\n        \"min\": 2,\n        \"max\": 5537,\n        \"num_unique_values\": 264,\n        \"samples\": [\n          304,\n          71,\n          242\n        ],\n        \"semantic_type\": \"\",\n        \"description\": \"\"\n      }\n    }\n  ]\n}"
            }
          },
          "metadata": {},
          "execution_count": 83
        }
      ]
    },
    {
      "cell_type": "code",
      "source": [
        "tf.columns = [\"words\", \"tf\"]\n",
        "tf"
      ],
      "metadata": {
        "colab": {
          "base_uri": "https://localhost:8080/",
          "height": 424
        },
        "id": "zUc9qF2k0qso",
        "outputId": "824744b1-df54-4727-98d1-0ede2b39db18"
      },
      "execution_count": 84,
      "outputs": [
        {
          "output_type": "execute_result",
          "data": {
            "text/plain": [
              "          words    tf\n",
              "0          card  5537\n",
              "1          work  2044\n",
              "2         phone  1909\n",
              "3            gb  1756\n",
              "4         great  1445\n",
              "...         ...   ...\n",
              "3683    itgreat     2\n",
              "3684  undamaged     2\n",
              "3685   estimate     2\n",
              "3686       zune     2\n",
              "3687     chkdsk     2\n",
              "\n",
              "[3688 rows x 2 columns]"
            ],
            "text/html": [
              "\n",
              "  <div id=\"df-5cf858c2-6a89-4036-85ed-824b7ec71732\" class=\"colab-df-container\">\n",
              "    <div>\n",
              "<style scoped>\n",
              "    .dataframe tbody tr th:only-of-type {\n",
              "        vertical-align: middle;\n",
              "    }\n",
              "\n",
              "    .dataframe tbody tr th {\n",
              "        vertical-align: top;\n",
              "    }\n",
              "\n",
              "    .dataframe thead th {\n",
              "        text-align: right;\n",
              "    }\n",
              "</style>\n",
              "<table border=\"1\" class=\"dataframe\">\n",
              "  <thead>\n",
              "    <tr style=\"text-align: right;\">\n",
              "      <th></th>\n",
              "      <th>words</th>\n",
              "      <th>tf</th>\n",
              "    </tr>\n",
              "  </thead>\n",
              "  <tbody>\n",
              "    <tr>\n",
              "      <th>0</th>\n",
              "      <td>card</td>\n",
              "      <td>5537</td>\n",
              "    </tr>\n",
              "    <tr>\n",
              "      <th>1</th>\n",
              "      <td>work</td>\n",
              "      <td>2044</td>\n",
              "    </tr>\n",
              "    <tr>\n",
              "      <th>2</th>\n",
              "      <td>phone</td>\n",
              "      <td>1909</td>\n",
              "    </tr>\n",
              "    <tr>\n",
              "      <th>3</th>\n",
              "      <td>gb</td>\n",
              "      <td>1756</td>\n",
              "    </tr>\n",
              "    <tr>\n",
              "      <th>4</th>\n",
              "      <td>great</td>\n",
              "      <td>1445</td>\n",
              "    </tr>\n",
              "    <tr>\n",
              "      <th>...</th>\n",
              "      <td>...</td>\n",
              "      <td>...</td>\n",
              "    </tr>\n",
              "    <tr>\n",
              "      <th>3683</th>\n",
              "      <td>itgreat</td>\n",
              "      <td>2</td>\n",
              "    </tr>\n",
              "    <tr>\n",
              "      <th>3684</th>\n",
              "      <td>undamaged</td>\n",
              "      <td>2</td>\n",
              "    </tr>\n",
              "    <tr>\n",
              "      <th>3685</th>\n",
              "      <td>estimate</td>\n",
              "      <td>2</td>\n",
              "    </tr>\n",
              "    <tr>\n",
              "      <th>3686</th>\n",
              "      <td>zune</td>\n",
              "      <td>2</td>\n",
              "    </tr>\n",
              "    <tr>\n",
              "      <th>3687</th>\n",
              "      <td>chkdsk</td>\n",
              "      <td>2</td>\n",
              "    </tr>\n",
              "  </tbody>\n",
              "</table>\n",
              "<p>3688 rows × 2 columns</p>\n",
              "</div>\n",
              "    <div class=\"colab-df-buttons\">\n",
              "\n",
              "  <div class=\"colab-df-container\">\n",
              "    <button class=\"colab-df-convert\" onclick=\"convertToInteractive('df-5cf858c2-6a89-4036-85ed-824b7ec71732')\"\n",
              "            title=\"Convert this dataframe to an interactive table.\"\n",
              "            style=\"display:none;\">\n",
              "\n",
              "  <svg xmlns=\"http://www.w3.org/2000/svg\" height=\"24px\" viewBox=\"0 -960 960 960\">\n",
              "    <path d=\"M120-120v-720h720v720H120Zm60-500h600v-160H180v160Zm220 220h160v-160H400v160Zm0 220h160v-160H400v160ZM180-400h160v-160H180v160Zm440 0h160v-160H620v160ZM180-180h160v-160H180v160Zm440 0h160v-160H620v160Z\"/>\n",
              "  </svg>\n",
              "    </button>\n",
              "\n",
              "  <style>\n",
              "    .colab-df-container {\n",
              "      display:flex;\n",
              "      gap: 12px;\n",
              "    }\n",
              "\n",
              "    .colab-df-convert {\n",
              "      background-color: #E8F0FE;\n",
              "      border: none;\n",
              "      border-radius: 50%;\n",
              "      cursor: pointer;\n",
              "      display: none;\n",
              "      fill: #1967D2;\n",
              "      height: 32px;\n",
              "      padding: 0 0 0 0;\n",
              "      width: 32px;\n",
              "    }\n",
              "\n",
              "    .colab-df-convert:hover {\n",
              "      background-color: #E2EBFA;\n",
              "      box-shadow: 0px 1px 2px rgba(60, 64, 67, 0.3), 0px 1px 3px 1px rgba(60, 64, 67, 0.15);\n",
              "      fill: #174EA6;\n",
              "    }\n",
              "\n",
              "    .colab-df-buttons div {\n",
              "      margin-bottom: 4px;\n",
              "    }\n",
              "\n",
              "    [theme=dark] .colab-df-convert {\n",
              "      background-color: #3B4455;\n",
              "      fill: #D2E3FC;\n",
              "    }\n",
              "\n",
              "    [theme=dark] .colab-df-convert:hover {\n",
              "      background-color: #434B5C;\n",
              "      box-shadow: 0px 1px 3px 1px rgba(0, 0, 0, 0.15);\n",
              "      filter: drop-shadow(0px 1px 2px rgba(0, 0, 0, 0.3));\n",
              "      fill: #FFFFFF;\n",
              "    }\n",
              "  </style>\n",
              "\n",
              "    <script>\n",
              "      const buttonEl =\n",
              "        document.querySelector('#df-5cf858c2-6a89-4036-85ed-824b7ec71732 button.colab-df-convert');\n",
              "      buttonEl.style.display =\n",
              "        google.colab.kernel.accessAllowed ? 'block' : 'none';\n",
              "\n",
              "      async function convertToInteractive(key) {\n",
              "        const element = document.querySelector('#df-5cf858c2-6a89-4036-85ed-824b7ec71732');\n",
              "        const dataTable =\n",
              "          await google.colab.kernel.invokeFunction('convertToInteractive',\n",
              "                                                    [key], {});\n",
              "        if (!dataTable) return;\n",
              "\n",
              "        const docLinkHtml = 'Like what you see? Visit the ' +\n",
              "          '<a target=\"_blank\" href=https://colab.research.google.com/notebooks/data_table.ipynb>data table notebook</a>'\n",
              "          + ' to learn more about interactive tables.';\n",
              "        element.innerHTML = '';\n",
              "        dataTable['output_type'] = 'display_data';\n",
              "        await google.colab.output.renderOutput(dataTable, element);\n",
              "        const docLink = document.createElement('div');\n",
              "        docLink.innerHTML = docLinkHtml;\n",
              "        element.appendChild(docLink);\n",
              "      }\n",
              "    </script>\n",
              "  </div>\n",
              "\n",
              "\n",
              "<div id=\"df-2db58738-4ad8-442f-9ef6-2f2e20e800c8\">\n",
              "  <button class=\"colab-df-quickchart\" onclick=\"quickchart('df-2db58738-4ad8-442f-9ef6-2f2e20e800c8')\"\n",
              "            title=\"Suggest charts\"\n",
              "            style=\"display:none;\">\n",
              "\n",
              "<svg xmlns=\"http://www.w3.org/2000/svg\" height=\"24px\"viewBox=\"0 0 24 24\"\n",
              "     width=\"24px\">\n",
              "    <g>\n",
              "        <path d=\"M19 3H5c-1.1 0-2 .9-2 2v14c0 1.1.9 2 2 2h14c1.1 0 2-.9 2-2V5c0-1.1-.9-2-2-2zM9 17H7v-7h2v7zm4 0h-2V7h2v10zm4 0h-2v-4h2v4z\"/>\n",
              "    </g>\n",
              "</svg>\n",
              "  </button>\n",
              "\n",
              "<style>\n",
              "  .colab-df-quickchart {\n",
              "      --bg-color: #E8F0FE;\n",
              "      --fill-color: #1967D2;\n",
              "      --hover-bg-color: #E2EBFA;\n",
              "      --hover-fill-color: #174EA6;\n",
              "      --disabled-fill-color: #AAA;\n",
              "      --disabled-bg-color: #DDD;\n",
              "  }\n",
              "\n",
              "  [theme=dark] .colab-df-quickchart {\n",
              "      --bg-color: #3B4455;\n",
              "      --fill-color: #D2E3FC;\n",
              "      --hover-bg-color: #434B5C;\n",
              "      --hover-fill-color: #FFFFFF;\n",
              "      --disabled-bg-color: #3B4455;\n",
              "      --disabled-fill-color: #666;\n",
              "  }\n",
              "\n",
              "  .colab-df-quickchart {\n",
              "    background-color: var(--bg-color);\n",
              "    border: none;\n",
              "    border-radius: 50%;\n",
              "    cursor: pointer;\n",
              "    display: none;\n",
              "    fill: var(--fill-color);\n",
              "    height: 32px;\n",
              "    padding: 0;\n",
              "    width: 32px;\n",
              "  }\n",
              "\n",
              "  .colab-df-quickchart:hover {\n",
              "    background-color: var(--hover-bg-color);\n",
              "    box-shadow: 0 1px 2px rgba(60, 64, 67, 0.3), 0 1px 3px 1px rgba(60, 64, 67, 0.15);\n",
              "    fill: var(--button-hover-fill-color);\n",
              "  }\n",
              "\n",
              "  .colab-df-quickchart-complete:disabled,\n",
              "  .colab-df-quickchart-complete:disabled:hover {\n",
              "    background-color: var(--disabled-bg-color);\n",
              "    fill: var(--disabled-fill-color);\n",
              "    box-shadow: none;\n",
              "  }\n",
              "\n",
              "  .colab-df-spinner {\n",
              "    border: 2px solid var(--fill-color);\n",
              "    border-color: transparent;\n",
              "    border-bottom-color: var(--fill-color);\n",
              "    animation:\n",
              "      spin 1s steps(1) infinite;\n",
              "  }\n",
              "\n",
              "  @keyframes spin {\n",
              "    0% {\n",
              "      border-color: transparent;\n",
              "      border-bottom-color: var(--fill-color);\n",
              "      border-left-color: var(--fill-color);\n",
              "    }\n",
              "    20% {\n",
              "      border-color: transparent;\n",
              "      border-left-color: var(--fill-color);\n",
              "      border-top-color: var(--fill-color);\n",
              "    }\n",
              "    30% {\n",
              "      border-color: transparent;\n",
              "      border-left-color: var(--fill-color);\n",
              "      border-top-color: var(--fill-color);\n",
              "      border-right-color: var(--fill-color);\n",
              "    }\n",
              "    40% {\n",
              "      border-color: transparent;\n",
              "      border-right-color: var(--fill-color);\n",
              "      border-top-color: var(--fill-color);\n",
              "    }\n",
              "    60% {\n",
              "      border-color: transparent;\n",
              "      border-right-color: var(--fill-color);\n",
              "    }\n",
              "    80% {\n",
              "      border-color: transparent;\n",
              "      border-right-color: var(--fill-color);\n",
              "      border-bottom-color: var(--fill-color);\n",
              "    }\n",
              "    90% {\n",
              "      border-color: transparent;\n",
              "      border-bottom-color: var(--fill-color);\n",
              "    }\n",
              "  }\n",
              "</style>\n",
              "\n",
              "  <script>\n",
              "    async function quickchart(key) {\n",
              "      const quickchartButtonEl =\n",
              "        document.querySelector('#' + key + ' button');\n",
              "      quickchartButtonEl.disabled = true;  // To prevent multiple clicks.\n",
              "      quickchartButtonEl.classList.add('colab-df-spinner');\n",
              "      try {\n",
              "        const charts = await google.colab.kernel.invokeFunction(\n",
              "            'suggestCharts', [key], {});\n",
              "      } catch (error) {\n",
              "        console.error('Error during call to suggestCharts:', error);\n",
              "      }\n",
              "      quickchartButtonEl.classList.remove('colab-df-spinner');\n",
              "      quickchartButtonEl.classList.add('colab-df-quickchart-complete');\n",
              "    }\n",
              "    (() => {\n",
              "      let quickchartButtonEl =\n",
              "        document.querySelector('#df-2db58738-4ad8-442f-9ef6-2f2e20e800c8 button');\n",
              "      quickchartButtonEl.style.display =\n",
              "        google.colab.kernel.accessAllowed ? 'block' : 'none';\n",
              "    })();\n",
              "  </script>\n",
              "</div>\n",
              "\n",
              "  <div id=\"id_a3126d14-af43-42a5-9616-18f2559ac369\">\n",
              "    <style>\n",
              "      .colab-df-generate {\n",
              "        background-color: #E8F0FE;\n",
              "        border: none;\n",
              "        border-radius: 50%;\n",
              "        cursor: pointer;\n",
              "        display: none;\n",
              "        fill: #1967D2;\n",
              "        height: 32px;\n",
              "        padding: 0 0 0 0;\n",
              "        width: 32px;\n",
              "      }\n",
              "\n",
              "      .colab-df-generate:hover {\n",
              "        background-color: #E2EBFA;\n",
              "        box-shadow: 0px 1px 2px rgba(60, 64, 67, 0.3), 0px 1px 3px 1px rgba(60, 64, 67, 0.15);\n",
              "        fill: #174EA6;\n",
              "      }\n",
              "\n",
              "      [theme=dark] .colab-df-generate {\n",
              "        background-color: #3B4455;\n",
              "        fill: #D2E3FC;\n",
              "      }\n",
              "\n",
              "      [theme=dark] .colab-df-generate:hover {\n",
              "        background-color: #434B5C;\n",
              "        box-shadow: 0px 1px 3px 1px rgba(0, 0, 0, 0.15);\n",
              "        filter: drop-shadow(0px 1px 2px rgba(0, 0, 0, 0.3));\n",
              "        fill: #FFFFFF;\n",
              "      }\n",
              "    </style>\n",
              "    <button class=\"colab-df-generate\" onclick=\"generateWithVariable('tf')\"\n",
              "            title=\"Generate code using this dataframe.\"\n",
              "            style=\"display:none;\">\n",
              "\n",
              "  <svg xmlns=\"http://www.w3.org/2000/svg\" height=\"24px\"viewBox=\"0 0 24 24\"\n",
              "       width=\"24px\">\n",
              "    <path d=\"M7,19H8.4L18.45,9,17,7.55,7,17.6ZM5,21V16.75L18.45,3.32a2,2,0,0,1,2.83,0l1.4,1.43a1.91,1.91,0,0,1,.58,1.4,1.91,1.91,0,0,1-.58,1.4L9.25,21ZM18.45,9,17,7.55Zm-12,3A5.31,5.31,0,0,0,4.9,8.1,5.31,5.31,0,0,0,1,6.5,5.31,5.31,0,0,0,4.9,4.9,5.31,5.31,0,0,0,6.5,1,5.31,5.31,0,0,0,8.1,4.9,5.31,5.31,0,0,0,12,6.5,5.46,5.46,0,0,0,6.5,12Z\"/>\n",
              "  </svg>\n",
              "    </button>\n",
              "    <script>\n",
              "      (() => {\n",
              "      const buttonEl =\n",
              "        document.querySelector('#id_a3126d14-af43-42a5-9616-18f2559ac369 button.colab-df-generate');\n",
              "      buttonEl.style.display =\n",
              "        google.colab.kernel.accessAllowed ? 'block' : 'none';\n",
              "\n",
              "      buttonEl.onclick = () => {\n",
              "        google.colab.notebook.generateWithVariable('tf');\n",
              "      }\n",
              "      })();\n",
              "    </script>\n",
              "  </div>\n",
              "\n",
              "    </div>\n",
              "  </div>\n"
            ],
            "application/vnd.google.colaboratory.intrinsic+json": {
              "type": "dataframe",
              "variable_name": "tf",
              "summary": "{\n  \"name\": \"tf\",\n  \"rows\": 3688,\n  \"fields\": [\n    {\n      \"column\": \"words\",\n      \"properties\": {\n        \"dtype\": \"string\",\n        \"num_unique_values\": 3688,\n        \"samples\": [\n          \"mad\",\n          \"intense\",\n          \"disappointed\"\n        ],\n        \"semantic_type\": \"\",\n        \"description\": \"\"\n      }\n    },\n    {\n      \"column\": \"tf\",\n      \"properties\": {\n        \"dtype\": \"number\",\n        \"std\": 140,\n        \"min\": 2,\n        \"max\": 5537,\n        \"num_unique_values\": 264,\n        \"samples\": [\n          304,\n          71,\n          242\n        ],\n        \"semantic_type\": \"\",\n        \"description\": \"\"\n      }\n    }\n  ]\n}"
            }
          },
          "metadata": {},
          "execution_count": 84
        }
      ]
    },
    {
      "cell_type": "code",
      "source": [
        "tf = (tf[tf[\"tf\"] >= 500]).plot.bar(x=\"words\",y=\"tf\")\n",
        "plt.show()"
      ],
      "metadata": {
        "colab": {
          "base_uri": "https://localhost:8080/",
          "height": 498
        },
        "id": "DGw-D1YX08OF",
        "outputId": "fa406b91-3f87-416f-c4cc-d8383dc1a9a7"
      },
      "execution_count": 85,
      "outputs": [
        {
          "output_type": "display_data",
          "data": {
            "text/plain": [
              "<Figure size 640x480 with 1 Axes>"
            ],
            "image/png": "[encoded data removed]"
          },
          "metadata": {}
        }
      ]
    },
    {
      "cell_type": "markdown",
      "source": [
        "Wordcloud"
      ],
      "metadata": {
        "id": "ETvHWLFK1coL"
      }
    },
    {
      "cell_type": "code",
      "source": [
        "Text = \" \".join(i for i in df.reviewText) #tek metin haline getirdik"
      ],
      "metadata": {
        "id": "ZPtF4h8W1ZXX"
      },
      "execution_count": 86,
      "outputs": []
    },
    {
      "cell_type": "code",
      "source": [
        "wordcloud=wordcloud = WordCloud(max_font_size=100, max_words=100, background_color=\"white\").generate(Text)\n",
        "plt.figure(figsize=(10,10))\n",
        "plt.imshow(wordcloud, interpolation=\"bilinear\")\n",
        "plt.axis(\"off\")\n",
        "plt.show()"
      ],
      "metadata": {
        "colab": {
          "base_uri": "https://localhost:8080/",
          "height": 424
        },
        "id": "6VbMZFWg24KB",
        "outputId": "767602f7-22b0-417c-9913-2eddae356234"
      },
      "execution_count": 87,
      "outputs": [
        {
          "output_type": "display_data",
          "data": {
            "text/plain": [
              "<Figure size 1000x1000 with 1 Axes>"
            ],
            "image/png": "[encoded data removed]"
          },
          "metadata": {}
        }
      ]
    },
    {
      "cell_type": "code",
      "source": [
        "wordcloud.to_file(\"wordcloud.png\")"
      ],
      "metadata": {
        "colab": {
          "base_uri": "https://localhost:8080/"
        },
        "id": "IssboaWJ3Fof",
        "outputId": "c4f83640-28fc-420f-9a6f-875b9edf63a6"
      },
      "execution_count": 88,
      "outputs": [
        {
          "output_type": "execute_result",
          "data": {
            "text/plain": [
              "<wordcloud.wordcloud.WordCloud at 0x7a03000964a0>"
            ]
          },
          "metadata": {},
          "execution_count": 88
        }
      ]
    },
    {
      "cell_type": "markdown",
      "source": [
        "Sentiment Analysis<br>\n",
        "Feeture engineering<br>"
      ],
      "metadata": {
        "id": "pbI1sqn8rD38"
      }
    },
    {
      "cell_type": "code",
      "source": [
        "df[\"reviewText\"].head()"
      ],
      "metadata": {
        "id": "9jOqytES3uFh",
        "colab": {
          "base_uri": "https://localhost:8080/"
        },
        "outputId": "db63e693-11d8-4b72-e20c-a2e31cbe77d1"
      },
      "execution_count": 89,
      "outputs": [
        {
          "output_type": "execute_result",
          "data": {
            "text/plain": [
              "0                                                issue\n",
              "1    purchased device worked advertised never much ...\n",
              "2    work expected higher capacity think made bit e...\n",
              "3    think worked gb card went south one held prett...\n",
              "4    bought retail packaging arrived legit envelope...\n",
              "Name: reviewText, dtype: object"
            ]
          },
          "metadata": {},
          "execution_count": 89
        }
      ]
    },
    {
      "cell_type": "code",
      "source": [
        "nltk.download(\"vader_lexicon\") #kelimeleri vektörlüyoruz"
      ],
      "metadata": {
        "colab": {
          "base_uri": "https://localhost:8080/"
        },
        "id": "U8nwOeKXqv10",
        "outputId": "c23018f1-c41f-4c63-ec81-40fcc9ddb48f"
      },
      "execution_count": 90,
      "outputs": [
        {
          "output_type": "stream",
          "name": "stderr",
          "text": [
            "[nltk_data] Downloading package vader_lexicon to /root/nltk_data...\n",
            "[nltk_data]   Package vader_lexicon is already up-to-date!\n"
          ]
        },
        {
          "output_type": "execute_result",
          "data": {
            "text/plain": [
              "True"
            ]
          },
          "metadata": {},
          "execution_count": 90
        }
      ]
    },
    {
      "cell_type": "code",
      "source": [
        "sia = SentimentIntensityAnalyzer()"
      ],
      "metadata": {
        "id": "_wqt3mRCqvwi"
      },
      "execution_count": 91,
      "outputs": []
    },
    {
      "cell_type": "code",
      "source": [
        "sia.polarity_scores(\"The film was good\") #compound değeri sıfırdan büyükse pozitif bir cümledir"
      ],
      "metadata": {
        "colab": {
          "base_uri": "https://localhost:8080/"
        },
        "id": "80JR_4CSqvp0",
        "outputId": "f62fe385-d2f8-4009-98c9-6da13472e677"
      },
      "execution_count": 92,
      "outputs": [
        {
          "output_type": "execute_result",
          "data": {
            "text/plain": [
              "{'neg': 0.0, 'neu': 0.508, 'pos': 0.492, 'compound': 0.4404}"
            ]
          },
          "metadata": {},
          "execution_count": 92
        }
      ]
    },
    {
      "cell_type": "code",
      "source": [
        "sia.polarity_scores(\"I like this music but it is not good as the other one\")"
      ],
      "metadata": {
        "colab": {
          "base_uri": "https://localhost:8080/"
        },
        "id": "xcCdn9tKqvhp",
        "outputId": "73a78858-96e4-4caa-a980-56534c8f4601"
      },
      "execution_count": 93,
      "outputs": [
        {
          "output_type": "execute_result",
          "data": {
            "text/plain": [
              "{'neg': 0.209, 'neu': 0.673, 'pos': 0.118, 'compound': -0.3311}"
            ]
          },
          "metadata": {},
          "execution_count": 93
        }
      ]
    },
    {
      "cell_type": "code",
      "source": [
        "df[\"reviewText\"][0:10].apply(lambda x: sia.polarity_scores(x))"
      ],
      "metadata": {
        "colab": {
          "base_uri": "https://localhost:8080/"
        },
        "id": "ITsErsPtsU41",
        "outputId": "1d191e37-cc56-4bd9-b8c3-a9d3617850fb"
      },
      "execution_count": 94,
      "outputs": [
        {
          "output_type": "execute_result",
          "data": {
            "text/plain": [
              "0    {'neg': 0.0, 'neu': 1.0, 'pos': 0.0, 'compound...\n",
              "1    {'neg': 0.0, 'neu': 1.0, 'pos': 0.0, 'compound...\n",
              "2    {'neg': 0.0, 'neu': 0.803, 'pos': 0.197, 'comp...\n",
              "3    {'neg': 0.0, 'neu': 0.798, 'pos': 0.202, 'comp...\n",
              "4    {'neg': 0.0, 'neu': 0.747, 'pos': 0.253, 'comp...\n",
              "5    {'neg': 0.0, 'neu': 1.0, 'pos': 0.0, 'compound...\n",
              "6    {'neg': 0.108, 'neu': 0.598, 'pos': 0.295, 'co...\n",
              "7    {'neg': 0.077, 'neu': 0.65, 'pos': 0.272, 'com...\n",
              "8    {'neg': 0.0, 'neu': 1.0, 'pos': 0.0, 'compound...\n",
              "9    {'neg': 0.0, 'neu': 0.457, 'pos': 0.543, 'comp...\n",
              "Name: reviewText, dtype: object"
            ]
          },
          "metadata": {},
          "execution_count": 94
        }
      ]
    },
    {
      "cell_type": "code",
      "source": [
        "df['reviewText'][0:10].apply(lambda x: sia.polarity_scores(' '.join(x)) if isinstance(x, list) else sia.polarity_scores(x))"
      ],
      "metadata": {
        "id": "8tGkt0ggs8_d",
        "colab": {
          "base_uri": "https://localhost:8080/"
        },
        "outputId": "07e373a6-46a8-4c88-e249-4af1f7588423"
      },
      "execution_count": 95,
      "outputs": [
        {
          "output_type": "execute_result",
          "data": {
            "text/plain": [
              "0    {'neg': 0.0, 'neu': 1.0, 'pos': 0.0, 'compound...\n",
              "1    {'neg': 0.0, 'neu': 1.0, 'pos': 0.0, 'compound...\n",
              "2    {'neg': 0.0, 'neu': 0.803, 'pos': 0.197, 'comp...\n",
              "3    {'neg': 0.0, 'neu': 0.798, 'pos': 0.202, 'comp...\n",
              "4    {'neg': 0.0, 'neu': 0.747, 'pos': 0.253, 'comp...\n",
              "5    {'neg': 0.0, 'neu': 1.0, 'pos': 0.0, 'compound...\n",
              "6    {'neg': 0.108, 'neu': 0.598, 'pos': 0.295, 'co...\n",
              "7    {'neg': 0.077, 'neu': 0.65, 'pos': 0.272, 'com...\n",
              "8    {'neg': 0.0, 'neu': 1.0, 'pos': 0.0, 'compound...\n",
              "9    {'neg': 0.0, 'neu': 0.457, 'pos': 0.543, 'comp...\n",
              "Name: reviewText, dtype: object"
            ]
          },
          "metadata": {},
          "execution_count": 95
        }
      ]
    },
    {
      "cell_type": "code",
      "source": [
        "#polarite score ataması yaptık\n",
        "df[\"polarity_score\"] = df[\"reviewText\"].apply(lambda x: sia.polarity_scores(' '.join(x))[\"compound\"] if isinstance(x, list) else sia.polarity_scores(x)[\"compound\"])"
      ],
      "metadata": {
        "id": "Zjpp5f6MtyR7"
      },
      "execution_count": 96,
      "outputs": []
    },
    {
      "cell_type": "code",
      "source": [
        "df[\"polarity_score\"]"
      ],
      "metadata": {
        "colab": {
          "base_uri": "https://localhost:8080/"
        },
        "id": "RZd58JbctyM7",
        "outputId": "7d12979c-fc8e-47a0-fcdd-3482f143492b"
      },
      "execution_count": 100,
      "outputs": [
        {
          "output_type": "execute_result",
          "data": {
            "text/plain": [
              "0       0.000000\n",
              "1       0.000000\n",
              "2       0.401900\n",
              "3       0.648600\n",
              "4       0.859100\n",
              "          ...   \n",
              "4910    0.077200\n",
              "4911    0.176100\n",
              "4912    0.848100\n",
              "4913    0.690800\n",
              "4914    0.526700\n",
              "Name: polarity_score, Length: 4915, dtype: float64"
            ]
          },
          "metadata": {},
          "execution_count": 100
        }
      ]
    },
    {
      "cell_type": "markdown",
      "source": [
        "Future Engineering"
      ],
      "metadata": {
        "id": "hdlNgOJPv7Dj"
      }
    },
    {
      "cell_type": "code",
      "source": [
        "df[\"reviewText\"].apply(lambda x: \"pos\" if sia.polarity_scores(x)[\"compound\"] > 0 else \"neg\")"
      ],
      "metadata": {
        "colab": {
          "base_uri": "https://localhost:8080/"
        },
        "id": "HCuhuW7-tyEy",
        "outputId": "2b2a1360-dbba-44f3-fb44-20436c175dda"
      },
      "execution_count": 182,
      "outputs": [
        {
          "output_type": "execute_result",
          "data": {
            "text/plain": [
              "0       neg\n",
              "1       neg\n",
              "2       pos\n",
              "3       pos\n",
              "4       pos\n",
              "       ... \n",
              "4910    pos\n",
              "4911    pos\n",
              "4912    pos\n",
              "4913    pos\n",
              "4914    pos\n",
              "Name: reviewText, Length: 4915, dtype: object"
            ]
          },
          "metadata": {},
          "execution_count": 182
        }
      ]
    },
    {
      "cell_type": "code",
      "source": [
        "df[\"sentiment_label\"] = df[\"reviewText\"].apply(lambda x: \"pos\" if sia.polarity_scores(' '.join(x) if isinstance(x, list) else x)[\"compound\"] > 0 else \"neg\")"
      ],
      "metadata": {
        "id": "zewBjRKTtx8_"
      },
      "execution_count": 183,
      "outputs": []
    },
    {
      "cell_type": "code",
      "source": [
        "df[\"sentiment_label\"].value_counts()"
      ],
      "metadata": {
        "colab": {
          "base_uri": "https://localhost:8080/"
        },
        "id": "0pLMS-3_wjoc",
        "outputId": "43c3562c-a431-4487-f6d0-54ed7875e217"
      },
      "execution_count": 184,
      "outputs": [
        {
          "output_type": "execute_result",
          "data": {
            "text/plain": [
              "sentiment_label\n",
              "pos    3944\n",
              "neg     971\n",
              "Name: count, dtype: int64"
            ]
          },
          "metadata": {},
          "execution_count": 184
        }
      ]
    },
    {
      "cell_type": "code",
      "source": [
        "# df.groupby(\"sentiment_label\").agg({\"overall\": \"mean\"})\n",
        "df.groupby(\"sentiment_label\")[\"overall\"].mean()"
      ],
      "metadata": {
        "colab": {
          "base_uri": "https://localhost:8080/"
        },
        "id": "OEYRORQ5wqfk",
        "outputId": "743d1fa8-bad8-4db7-e9a2-43f501c33155"
      },
      "execution_count": 185,
      "outputs": [
        {
          "output_type": "execute_result",
          "data": {
            "text/plain": [
              "sentiment_label\n",
              "neg    4.094748\n",
              "pos    4.708925\n",
              "Name: overall, dtype: float64"
            ]
          },
          "metadata": {},
          "execution_count": 185
        }
      ]
    },
    {
      "cell_type": "code",
      "source": [
        "#encode işlemi\n",
        "df[\"sentiment_label\"] = LabelEncoder().fit_transform(df[\"sentiment_label\"])\n",
        "df[\"sentiment_label\"]"
      ],
      "metadata": {
        "colab": {
          "base_uri": "https://localhost:8080/"
        },
        "id": "qv8su1Hqw0kE",
        "outputId": "2cff99e2-dc52-4de7-afaa-1d14b5342306"
      },
      "execution_count": 186,
      "outputs": [
        {
          "output_type": "execute_result",
          "data": {
            "text/plain": [
              "0       0\n",
              "1       0\n",
              "2       1\n",
              "3       1\n",
              "4       1\n",
              "       ..\n",
              "4910    1\n",
              "4911    1\n",
              "4912    1\n",
              "4913    1\n",
              "4914    1\n",
              "Name: sentiment_label, Length: 4915, dtype: int64"
            ]
          },
          "metadata": {},
          "execution_count": 186
        }
      ]
    },
    {
      "cell_type": "code",
      "source": [
        "y = df[\"sentiment_label\"]\n",
        "x = df[\"reviewText\"]"
      ],
      "metadata": {
        "id": "gtsQGhFvw-Vy"
      },
      "execution_count": 187,
      "outputs": []
    },
    {
      "cell_type": "markdown",
      "source": [
        "Count Vectors: frekans temsiller<br>\n",
        "TF-IDF Vectors: normalize edilmiş frekans temsiller<br>\n",
        "Word Embeddings (Word2Vec, GloVe, BERT vs)"
      ],
      "metadata": {
        "id": "-tQJ5lixx6px"
      }
    },
    {
      "cell_type": "code",
      "source": [
        "# words\n",
        "# kelimelerin nümerik temsilleri\n",
        "\n",
        "# characters\n",
        "# karakterlerin numerik temsilleri\n",
        "\n",
        "# ngram\n",
        "a = \"\"\"Bu örneği anlaşılabilmesi için daha uzun bir metin üzerinden göstereceğim.\n",
        "N-gram'lar birlikte kullanılan kelimelerin kombinasyolarını gösterir ve feature üretmek için kullanılır\"\"\"\n",
        "\n",
        "TextBlob(a).ngrams(3)"
      ],
      "metadata": {
        "colab": {
          "base_uri": "https://localhost:8080/"
        },
        "id": "C7Z2sj1Zw-Og",
        "outputId": "4b621f28-9823-4417-8f56-3f346449342b"
      },
      "execution_count": 188,
      "outputs": [
        {
          "output_type": "execute_result",
          "data": {
            "text/plain": [
              "[WordList(['Bu', 'örneği', 'anlaşılabilmesi']),\n",
              " WordList(['örneği', 'anlaşılabilmesi', 'için']),\n",
              " WordList(['anlaşılabilmesi', 'için', 'daha']),\n",
              " WordList(['için', 'daha', 'uzun']),\n",
              " WordList(['daha', 'uzun', 'bir']),\n",
              " WordList(['uzun', 'bir', 'metin']),\n",
              " WordList(['bir', 'metin', 'üzerinden']),\n",
              " WordList(['metin', 'üzerinden', 'göstereceğim']),\n",
              " WordList(['üzerinden', 'göstereceğim', \"N-gram'lar\"]),\n",
              " WordList(['göstereceğim', \"N-gram'lar\", 'birlikte']),\n",
              " WordList([\"N-gram'lar\", 'birlikte', 'kullanılan']),\n",
              " WordList(['birlikte', 'kullanılan', 'kelimelerin']),\n",
              " WordList(['kullanılan', 'kelimelerin', 'kombinasyolarını']),\n",
              " WordList(['kelimelerin', 'kombinasyolarını', 'gösterir']),\n",
              " WordList(['kombinasyolarını', 'gösterir', 've']),\n",
              " WordList(['gösterir', 've', 'feature']),\n",
              " WordList(['ve', 'feature', 'üretmek']),\n",
              " WordList(['feature', 'üretmek', 'için']),\n",
              " WordList(['üretmek', 'için', 'kullanılır'])]"
            ]
          },
          "metadata": {},
          "execution_count": 188
        }
      ]
    },
    {
      "cell_type": "code",
      "source": [
        "from sklearn.feature_extraction.text import CountVectorizer"
      ],
      "metadata": {
        "id": "yMi_mzOkymkm"
      },
      "execution_count": 189,
      "outputs": []
    },
    {
      "cell_type": "code",
      "source": [
        "corpus = ['This is the first document.',\n",
        "          'This document is the second document.',\n",
        "          'And this is the third one.',\n",
        "          'Is this the first document?']"
      ],
      "metadata": {
        "id": "-LOOoU0ezG87"
      },
      "execution_count": 190,
      "outputs": []
    },
    {
      "cell_type": "code",
      "source": [
        "# word frekans\n",
        "\n",
        "vectorizer = CountVectorizer()\n",
        "X_c = vectorizer.fit_transform(corpus)\n",
        "vectorizer.get_feature_names_out()"
      ],
      "metadata": {
        "colab": {
          "base_uri": "https://localhost:8080/"
        },
        "id": "0IO3exxyzcbF",
        "outputId": "057bfe39-269b-400f-bdaa-8bb151e31a04"
      },
      "execution_count": 191,
      "outputs": [
        {
          "output_type": "execute_result",
          "data": {
            "text/plain": [
              "array(['and', 'document', 'first', 'is', 'one', 'second', 'the', 'third',\n",
              "       'this'], dtype=object)"
            ]
          },
          "metadata": {},
          "execution_count": 191
        }
      ]
    },
    {
      "cell_type": "code",
      "source": [
        "X_c.toarray()"
      ],
      "metadata": {
        "colab": {
          "base_uri": "https://localhost:8080/"
        },
        "id": "ShQlUmPdzl3F",
        "outputId": "7affc4b8-e92d-4af2-dcb4-9af3eabde0cc"
      },
      "execution_count": 192,
      "outputs": [
        {
          "output_type": "execute_result",
          "data": {
            "text/plain": [
              "array([[0, 1, 1, 1, 0, 0, 1, 0, 1],\n",
              "       [0, 2, 0, 1, 0, 1, 1, 0, 1],\n",
              "       [1, 0, 0, 1, 1, 0, 1, 1, 1],\n",
              "       [0, 1, 1, 1, 0, 0, 1, 0, 1]])"
            ]
          },
          "metadata": {},
          "execution_count": 192
        }
      ]
    },
    {
      "cell_type": "code",
      "source": [
        "# n-gram frekans\n",
        "vectorizer2 = CountVectorizer(analyzer='word', ngram_range=(2, 2))\n",
        "X_n = vectorizer2.fit_transform(corpus)\n",
        "vectorizer2.get_feature_names_out()"
      ],
      "metadata": {
        "colab": {
          "base_uri": "https://localhost:8080/"
        },
        "id": "NRFWin-z0hnZ",
        "outputId": "47db9875-2b25-476f-e250-1eaabbcfa678"
      },
      "execution_count": 193,
      "outputs": [
        {
          "output_type": "execute_result",
          "data": {
            "text/plain": [
              "array(['and this', 'document is', 'first document', 'is the', 'is this',\n",
              "       'second document', 'the first', 'the second', 'the third',\n",
              "       'third one', 'this document', 'this is', 'this the'], dtype=object)"
            ]
          },
          "metadata": {},
          "execution_count": 193
        }
      ]
    },
    {
      "cell_type": "code",
      "source": [
        "X_n.toarray()"
      ],
      "metadata": {
        "colab": {
          "base_uri": "https://localhost:8080/"
        },
        "id": "FPV923m20j2t",
        "outputId": "7fe739f4-a408-484d-e57c-79236bf2563a"
      },
      "execution_count": 194,
      "outputs": [
        {
          "output_type": "execute_result",
          "data": {
            "text/plain": [
              "array([[0, 0, 1, 1, 0, 0, 1, 0, 0, 0, 0, 1, 0],\n",
              "       [0, 1, 0, 1, 0, 1, 0, 1, 0, 0, 1, 0, 0],\n",
              "       [1, 0, 0, 1, 0, 0, 0, 0, 1, 1, 0, 1, 0],\n",
              "       [0, 0, 1, 0, 1, 0, 1, 0, 0, 0, 0, 0, 1]])"
            ]
          },
          "metadata": {},
          "execution_count": 194
        }
      ]
    },
    {
      "cell_type": "code",
      "source": [
        "vectorizer = CountVectorizer()\n",
        "X_count = vectorizer.fit_transform(x)\n",
        "\n",
        "vectorizer.get_feature_names_out()[10:15]  # 10 ve 15 arası satırları aldığımız için çıktı 0\n",
        "X_count.toarray()[10:15]"
      ],
      "metadata": {
        "colab": {
          "base_uri": "https://localhost:8080/"
        },
        "id": "gr_hCk2x0wMs",
        "outputId": "1c0a2d56-3c50-40b5-f0ca-2af0354d3b50"
      },
      "execution_count": 195,
      "outputs": [
        {
          "output_type": "execute_result",
          "data": {
            "text/plain": [
              "array([[0, 0, 0, ..., 0, 0, 0],\n",
              "       [0, 0, 0, ..., 0, 0, 0],\n",
              "       [0, 0, 0, ..., 0, 0, 0],\n",
              "       [0, 0, 0, ..., 0, 0, 0],\n",
              "       [0, 0, 0, ..., 0, 0, 0]])"
            ]
          },
          "metadata": {},
          "execution_count": 195
        }
      ]
    },
    {
      "cell_type": "markdown",
      "source": [
        "TF-IDF"
      ],
      "metadata": {
        "id": "FYVsW7MN3dg4"
      }
    },
    {
      "cell_type": "code",
      "source": [
        "from sklearn.feature_extraction.text import TfidfVectorizer"
      ],
      "metadata": {
        "id": "X_nENbPf05gs"
      },
      "execution_count": 196,
      "outputs": []
    },
    {
      "cell_type": "code",
      "source": [
        "tf_idf_vectorizer = TfidfVectorizer()\n",
        "X_tf_idf_word = tf_idf_vectorizer.fit_transform(x)"
      ],
      "metadata": {
        "id": "KdBurBpT4AmE"
      },
      "execution_count": 197,
      "outputs": []
    },
    {
      "cell_type": "code",
      "source": [
        "X_strings = X.apply(lambda x: ' '.join(x) if isinstance(x, list) else str(x))\n",
        "\n",
        "tf_idf_word_vectorizer = TfidfVectorizer()\n",
        "X_tf_idf_word = tf_idf_word_vectorizer.fit_transform(X_strings)"
      ],
      "metadata": {
        "id": "thuCA5zz4MYk"
      },
      "execution_count": 198,
      "outputs": []
    },
    {
      "cell_type": "code",
      "source": [
        "X_tf_idf_word"
      ],
      "metadata": {
        "colab": {
          "base_uri": "https://localhost:8080/"
        },
        "id": "_P3dA-Zy4mwt",
        "outputId": "ff57fc12-81b8-4de1-a44c-30d4f1ab2173"
      },
      "execution_count": 199,
      "outputs": [
        {
          "output_type": "execute_result",
          "data": {
            "text/plain": [
              "<4915x3666 sparse matrix of type '<class 'numpy.float64'>'\n",
              "\twith 102064 stored elements in Compressed Sparse Row format>"
            ]
          },
          "metadata": {},
          "execution_count": 199
        }
      ]
    },
    {
      "cell_type": "code",
      "source": [
        "tf_idf_ngram_vectorizer = TfidfVectorizer(ngram_range=(2, 3))\n",
        "X_tf_idf_ngram = tf_idf_ngram_vectorizer.fit_transform(X)"
      ],
      "metadata": {
        "id": "O8aj5jv24v_M"
      },
      "execution_count": 200,
      "outputs": []
    },
    {
      "cell_type": "code",
      "source": [
        "X_tf_idf_ngram"
      ],
      "metadata": {
        "colab": {
          "base_uri": "https://localhost:8080/"
        },
        "id": "WnRG3AEx44Pk",
        "outputId": "3bc22af9-8821-4260-fcff-b18fb1971864"
      },
      "execution_count": 201,
      "outputs": [
        {
          "output_type": "execute_result",
          "data": {
            "text/plain": [
              "<4915x160083 sparse matrix of type '<class 'numpy.float64'>'\n",
              "\twith 219890 stored elements in Compressed Sparse Row format>"
            ]
          },
          "metadata": {},
          "execution_count": 201
        }
      ]
    },
    {
      "cell_type": "markdown",
      "source": [
        "Logistic Regression"
      ],
      "metadata": {
        "id": "iPLzYQ4l5onP"
      }
    },
    {
      "cell_type": "code",
      "source": [
        "log_model = LogisticRegression().fit(X_tf_idf_word, y)\n",
        "\n",
        "cross_val_score(log_model,\n",
        "                X_tf_idf_word,\n",
        "                y,\n",
        "                scoring=\"accuracy\",\n",
        "                cv=5).mean() # 5 katmanlı bir mimari"
      ],
      "metadata": {
        "colab": {
          "base_uri": "https://localhost:8080/"
        },
        "id": "XodzCMNX46PU",
        "outputId": "890ecaa6-8795-43e9-a8a2-b0e684d1ad78"
      },
      "execution_count": 207,
      "outputs": [
        {
          "output_type": "execute_result",
          "data": {
            "text/plain": [
              "0.830111902339776"
            ]
          },
          "metadata": {},
          "execution_count": 207
        }
      ]
    },
    {
      "cell_type": "code",
      "source": [
        "# # new_review = pd.Series(\"this product is great\")\n",
        "# new_review = pd.Series(\"look at that shit very bad\")\n",
        "# # new_review = pd.Series(\"it was good but I am sure that it fits me\")\n",
        "\n",
        "# new_review = TfidfVectorizer().fit(X).transform(new_review)\n",
        "\n",
        "# log_model.predict(new_review)\n",
        "\n",
        "random_review = pd.Series(df[\"reviewText\"].sample(1).values[0])\n",
        "\n",
        "new_review = TfidfVectorizer().fit(X).transform(random_review)\n",
        "\n",
        "log_model.predict(new_review)"
      ],
      "metadata": {
        "colab": {
          "base_uri": "https://localhost:8080/"
        },
        "id": "KmdRoq3e52Kc",
        "outputId": "035116fb-ad0f-47e3-d2aa-6dd158363bdf"
      },
      "execution_count": 209,
      "outputs": [
        {
          "output_type": "execute_result",
          "data": {
            "text/plain": [
              "array([1])"
            ]
          },
          "metadata": {},
          "execution_count": 209
        }
      ]
    },
    {
      "cell_type": "code",
      "source": [],
      "metadata": {
        "id": "LrxIkMrXB1V1"
      },
      "execution_count": 203,
      "outputs": []
    }
  ]
}